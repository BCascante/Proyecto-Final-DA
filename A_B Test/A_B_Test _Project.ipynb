{
 "cells": [
  {
   "cell_type": "markdown",
   "metadata": {},
   "source": [
    "# Descripción del Ejercicio \n",
    "Has recibido una tarea analítica de una tienda en línea internacional. Tus predecesores no consiguieron completarla: lanzaron una prueba A/B y luego abandonaron (para iniciar una granja de sandías en Brasil). Solo dejaron las especificaciones técnicas y los resultados de las pruebas."
   ]
  },
  {
   "cell_type": "markdown",
   "metadata": {},
   "source": [
    "# Descripción Técnica \n",
    "- Nombre de la prueba: `recommender_system_test`\n",
    "- Grupos: А (control), B (nuevo embudo de pago)\n",
    "- Launch date: 2020-12-07\n",
    "- Fecha en la que dejaron de aceptar nuevos usuarios: 2020-12-21\n",
    "- Fecha de finalización: 2021-01-01\n",
    "- Audiencia: 15% de los nuevos usuarios de la región de la UE\n",
    "- Propósito de la prueba: probar cambios relacionados con la introducción de un sistema de recomendaciones mejorado\n",
    "- Resultado esperado: dentro de los 14 días posteriores a la inscripción, los usuarios mostrarán una mejor conversión en vistas de la página del producto (el evento `product_page`), instancias de agregar artículos al carrito de compras (`product_card`) y compras (`purchase`). En cada etapa del embudo `product_page → product_card → purchase`, habrá al menos un 10% de aumento.\n",
    "- Número previsto de participantes de la prueba: 6 000\n"
   ]
  },
  {
   "cell_type": "markdown",
   "metadata": {},
   "source": [
    "# Instrucciones a seguir \n",
    "- Describe los objetivos del estudio.\n",
    "- Explora los datos:\n",
    "    - ¿Es necesario convertir los tipos?\n",
    "    - ¿Hay valores ausentes o duplicados? Si es así, ¿cómo los caracterizarías?\n",
    "- Lleva a cabo el análisis exploratorio de datos:\n",
    "    - Estudia la conversión en las diferentes etapas del embudo.\n",
    "    - ¿El número de eventos por usuario está distribuido equitativamente entre las muestras?\n",
    "    - ¿Hay usuarios que están presentes en ambas muestras?\n",
    "    - ¿Cómo se distribuye el número de eventos entre los días?\n",
    "    - ¿Hay alguna peculiaridad en los datos que hay que tener en cuenta antes de iniciar la prueba A/B?\n",
    "- Evaluar los resultados de la prueba A/B:\n",
    "    - ¿Qué puedes decir sobre los resultados de la prueba A/B?\n",
    "    - Utiliza una prueba z para comprobar la diferencia estadística entre las proporciones\n",
    "- Describe tus conclusiones con respecto a la etapa EDA y los resultados de la prueba A/B"
   ]
  },
  {
   "cell_type": "markdown",
   "metadata": {},
   "source": [
    "# Importar Librerías \n"
   ]
  },
  {
   "cell_type": "code",
   "execution_count": 135,
   "metadata": {},
   "outputs": [],
   "source": [
    "# Librerías para la manipulación de datosm\n",
    "import pandas as pd \n",
    "import numpy as np \n",
    "import math \n",
    "import datetime as dt \n",
    "# Librerías para el estudio estadístico \n",
    "from scipy import stats as st \n",
    "from statsmodels.stats.proportion import proportions_ztest\n",
    "# Librerías para la visualización de datos  \n",
    "import seaborn as sns \n",
    "import matplotlib.pyplot as plt "
   ]
  },
  {
   "cell_type": "markdown",
   "metadata": {},
   "source": [
    "# Importar datasets "
   ]
  },
  {
   "cell_type": "code",
   "execution_count": 136,
   "metadata": {},
   "outputs": [],
   "source": [
    "# Calendario de eventos de marketing \n",
    "marketing_events = pd.read_csv('/datasets/ab_project_marketing_events_us.csv')\n",
    "# Usuarios que se registraron \n",
    "users = pd.read_csv('f/datasets/final_ab_new_users_upd_us.csv')\n",
    "# Evento de los usuarios \n",
    "events = pd.read_csv('/datasets/final_ab_events_upd_us.csv')\n",
    "# Datos de los participantes de la prueba \n",
    "user_data = pd.read_csv('/datasets/final_ab_participants_upd_us.csv')"
   ]
  },
  {
   "cell_type": "markdown",
   "metadata": {},
   "source": [
    "# Descripción de los datos \n",
    "- `marketing_events`: el calendario de eventos de marketing para 2020\n",
    "- `users`: todos los usuarios que se registraron en la tienda en línea desde el 7 hasta el 21 de diciembre de 2020\n",
    "- `events`: todos los eventos de los nuevos usuarios en el período comprendido entre el 7 de diciembre de 2020 y el 1 de enero de 2021\n",
    "- `user_data`: tabla con los datos de los participantes de la prueba"
   ]
  },
  {
   "cell_type": "markdown",
   "metadata": {},
   "source": [
    "## Marketing Events \n",
    "- `name`: el nombre del evento de marketing\n",
    "- `regions`: regiones donde se llevará a cabo la campaña publicitaria\n",
    "- `start_dt`: fecha de inicio de la campaña\n",
    "- `finish_dt`: fecha de finalización de la campaña"
   ]
  },
  {
   "cell_type": "code",
   "execution_count": 137,
   "metadata": {},
   "outputs": [
    {
     "data": {
      "text/html": [
       "<div>\n",
       "<style scoped>\n",
       "    .dataframe tbody tr th:only-of-type {\n",
       "        vertical-align: middle;\n",
       "    }\n",
       "\n",
       "    .dataframe tbody tr th {\n",
       "        vertical-align: top;\n",
       "    }\n",
       "\n",
       "    .dataframe thead th {\n",
       "        text-align: right;\n",
       "    }\n",
       "</style>\n",
       "<table border=\"1\" class=\"dataframe\">\n",
       "  <thead>\n",
       "    <tr style=\"text-align: right;\">\n",
       "      <th></th>\n",
       "      <th>name</th>\n",
       "      <th>regions</th>\n",
       "      <th>start_dt</th>\n",
       "      <th>finish_dt</th>\n",
       "    </tr>\n",
       "  </thead>\n",
       "  <tbody>\n",
       "    <tr>\n",
       "      <th>0</th>\n",
       "      <td>Christmas&amp;New Year Promo</td>\n",
       "      <td>EU, N.America</td>\n",
       "      <td>2020-12-25</td>\n",
       "      <td>2021-01-03</td>\n",
       "    </tr>\n",
       "    <tr>\n",
       "      <th>1</th>\n",
       "      <td>St. Valentine's Day Giveaway</td>\n",
       "      <td>EU, CIS, APAC, N.America</td>\n",
       "      <td>2020-02-14</td>\n",
       "      <td>2020-02-16</td>\n",
       "    </tr>\n",
       "    <tr>\n",
       "      <th>2</th>\n",
       "      <td>St. Patric's Day Promo</td>\n",
       "      <td>EU, N.America</td>\n",
       "      <td>2020-03-17</td>\n",
       "      <td>2020-03-19</td>\n",
       "    </tr>\n",
       "    <tr>\n",
       "      <th>3</th>\n",
       "      <td>Easter Promo</td>\n",
       "      <td>EU, CIS, APAC, N.America</td>\n",
       "      <td>2020-04-12</td>\n",
       "      <td>2020-04-19</td>\n",
       "    </tr>\n",
       "    <tr>\n",
       "      <th>4</th>\n",
       "      <td>4th of July Promo</td>\n",
       "      <td>N.America</td>\n",
       "      <td>2020-07-04</td>\n",
       "      <td>2020-07-11</td>\n",
       "    </tr>\n",
       "    <tr>\n",
       "      <th>5</th>\n",
       "      <td>Black Friday Ads Campaign</td>\n",
       "      <td>EU, CIS, APAC, N.America</td>\n",
       "      <td>2020-11-26</td>\n",
       "      <td>2020-12-01</td>\n",
       "    </tr>\n",
       "    <tr>\n",
       "      <th>6</th>\n",
       "      <td>Chinese New Year Promo</td>\n",
       "      <td>APAC</td>\n",
       "      <td>2020-01-25</td>\n",
       "      <td>2020-02-07</td>\n",
       "    </tr>\n",
       "    <tr>\n",
       "      <th>7</th>\n",
       "      <td>Labor day (May 1st) Ads Campaign</td>\n",
       "      <td>EU, CIS, APAC</td>\n",
       "      <td>2020-05-01</td>\n",
       "      <td>2020-05-03</td>\n",
       "    </tr>\n",
       "    <tr>\n",
       "      <th>8</th>\n",
       "      <td>International Women's Day Promo</td>\n",
       "      <td>EU, CIS, APAC</td>\n",
       "      <td>2020-03-08</td>\n",
       "      <td>2020-03-10</td>\n",
       "    </tr>\n",
       "    <tr>\n",
       "      <th>9</th>\n",
       "      <td>Victory Day CIS (May 9th) Event</td>\n",
       "      <td>CIS</td>\n",
       "      <td>2020-05-09</td>\n",
       "      <td>2020-05-11</td>\n",
       "    </tr>\n",
       "    <tr>\n",
       "      <th>10</th>\n",
       "      <td>CIS New Year Gift Lottery</td>\n",
       "      <td>CIS</td>\n",
       "      <td>2020-12-30</td>\n",
       "      <td>2021-01-07</td>\n",
       "    </tr>\n",
       "    <tr>\n",
       "      <th>11</th>\n",
       "      <td>Dragon Boat Festival Giveaway</td>\n",
       "      <td>APAC</td>\n",
       "      <td>2020-06-25</td>\n",
       "      <td>2020-07-01</td>\n",
       "    </tr>\n",
       "    <tr>\n",
       "      <th>12</th>\n",
       "      <td>Single's Day Gift Promo</td>\n",
       "      <td>APAC</td>\n",
       "      <td>2020-11-11</td>\n",
       "      <td>2020-11-12</td>\n",
       "    </tr>\n",
       "    <tr>\n",
       "      <th>13</th>\n",
       "      <td>Chinese Moon Festival</td>\n",
       "      <td>APAC</td>\n",
       "      <td>2020-10-01</td>\n",
       "      <td>2020-10-07</td>\n",
       "    </tr>\n",
       "  </tbody>\n",
       "</table>\n",
       "</div>"
      ],
      "text/plain": [
       "                                name                   regions    start_dt  \\\n",
       "0           Christmas&New Year Promo             EU, N.America  2020-12-25   \n",
       "1       St. Valentine's Day Giveaway  EU, CIS, APAC, N.America  2020-02-14   \n",
       "2             St. Patric's Day Promo             EU, N.America  2020-03-17   \n",
       "3                       Easter Promo  EU, CIS, APAC, N.America  2020-04-12   \n",
       "4                  4th of July Promo                 N.America  2020-07-04   \n",
       "5          Black Friday Ads Campaign  EU, CIS, APAC, N.America  2020-11-26   \n",
       "6             Chinese New Year Promo                      APAC  2020-01-25   \n",
       "7   Labor day (May 1st) Ads Campaign             EU, CIS, APAC  2020-05-01   \n",
       "8    International Women's Day Promo             EU, CIS, APAC  2020-03-08   \n",
       "9    Victory Day CIS (May 9th) Event                       CIS  2020-05-09   \n",
       "10         CIS New Year Gift Lottery                       CIS  2020-12-30   \n",
       "11     Dragon Boat Festival Giveaway                      APAC  2020-06-25   \n",
       "12           Single's Day Gift Promo                      APAC  2020-11-11   \n",
       "13             Chinese Moon Festival                      APAC  2020-10-01   \n",
       "\n",
       "     finish_dt  \n",
       "0   2021-01-03  \n",
       "1   2020-02-16  \n",
       "2   2020-03-19  \n",
       "3   2020-04-19  \n",
       "4   2020-07-11  \n",
       "5   2020-12-01  \n",
       "6   2020-02-07  \n",
       "7   2020-05-03  \n",
       "8   2020-03-10  \n",
       "9   2020-05-11  \n",
       "10  2021-01-07  \n",
       "11  2020-07-01  \n",
       "12  2020-11-12  \n",
       "13  2020-10-07  "
      ]
     },
     "execution_count": 137,
     "metadata": {},
     "output_type": "execute_result"
    }
   ],
   "source": [
    "marketing_events"
   ]
  },
  {
   "cell_type": "markdown",
   "metadata": {},
   "source": [
    "## Users\n",
    "- `user_id`\n",
    "- `first_date`: fecha de inscripción\n",
    "- `region`\n",
    "- `device`: dispositivo utilizado para la inscripción"
   ]
  },
  {
   "cell_type": "code",
   "execution_count": 138,
   "metadata": {},
   "outputs": [
    {
     "data": {
      "text/html": [
       "<div>\n",
       "<style scoped>\n",
       "    .dataframe tbody tr th:only-of-type {\n",
       "        vertical-align: middle;\n",
       "    }\n",
       "\n",
       "    .dataframe tbody tr th {\n",
       "        vertical-align: top;\n",
       "    }\n",
       "\n",
       "    .dataframe thead th {\n",
       "        text-align: right;\n",
       "    }\n",
       "</style>\n",
       "<table border=\"1\" class=\"dataframe\">\n",
       "  <thead>\n",
       "    <tr style=\"text-align: right;\">\n",
       "      <th></th>\n",
       "      <th>user_id</th>\n",
       "      <th>first_date</th>\n",
       "      <th>region</th>\n",
       "      <th>device</th>\n",
       "    </tr>\n",
       "  </thead>\n",
       "  <tbody>\n",
       "    <tr>\n",
       "      <th>0</th>\n",
       "      <td>D72A72121175D8BE</td>\n",
       "      <td>2020-12-07</td>\n",
       "      <td>EU</td>\n",
       "      <td>PC</td>\n",
       "    </tr>\n",
       "    <tr>\n",
       "      <th>1</th>\n",
       "      <td>F1C668619DFE6E65</td>\n",
       "      <td>2020-12-07</td>\n",
       "      <td>N.America</td>\n",
       "      <td>Android</td>\n",
       "    </tr>\n",
       "    <tr>\n",
       "      <th>2</th>\n",
       "      <td>2E1BF1D4C37EA01F</td>\n",
       "      <td>2020-12-07</td>\n",
       "      <td>EU</td>\n",
       "      <td>PC</td>\n",
       "    </tr>\n",
       "    <tr>\n",
       "      <th>3</th>\n",
       "      <td>50734A22C0C63768</td>\n",
       "      <td>2020-12-07</td>\n",
       "      <td>EU</td>\n",
       "      <td>iPhone</td>\n",
       "    </tr>\n",
       "    <tr>\n",
       "      <th>4</th>\n",
       "      <td>E1BDDCE0DAFA2679</td>\n",
       "      <td>2020-12-07</td>\n",
       "      <td>N.America</td>\n",
       "      <td>iPhone</td>\n",
       "    </tr>\n",
       "    <tr>\n",
       "      <th>5</th>\n",
       "      <td>137119F5A9E69421</td>\n",
       "      <td>2020-12-07</td>\n",
       "      <td>N.America</td>\n",
       "      <td>iPhone</td>\n",
       "    </tr>\n",
       "    <tr>\n",
       "      <th>6</th>\n",
       "      <td>62F0C741CC42D0CC</td>\n",
       "      <td>2020-12-07</td>\n",
       "      <td>APAC</td>\n",
       "      <td>iPhone</td>\n",
       "    </tr>\n",
       "    <tr>\n",
       "      <th>7</th>\n",
       "      <td>8942E64218C9A1ED</td>\n",
       "      <td>2020-12-07</td>\n",
       "      <td>EU</td>\n",
       "      <td>PC</td>\n",
       "    </tr>\n",
       "    <tr>\n",
       "      <th>8</th>\n",
       "      <td>499AFACF904BBAE3</td>\n",
       "      <td>2020-12-07</td>\n",
       "      <td>N.America</td>\n",
       "      <td>iPhone</td>\n",
       "    </tr>\n",
       "    <tr>\n",
       "      <th>9</th>\n",
       "      <td>FFCEA1179C253104</td>\n",
       "      <td>2020-12-07</td>\n",
       "      <td>EU</td>\n",
       "      <td>Android</td>\n",
       "    </tr>\n",
       "  </tbody>\n",
       "</table>\n",
       "</div>"
      ],
      "text/plain": [
       "            user_id  first_date     region   device\n",
       "0  D72A72121175D8BE  2020-12-07         EU       PC\n",
       "1  F1C668619DFE6E65  2020-12-07  N.America  Android\n",
       "2  2E1BF1D4C37EA01F  2020-12-07         EU       PC\n",
       "3  50734A22C0C63768  2020-12-07         EU   iPhone\n",
       "4  E1BDDCE0DAFA2679  2020-12-07  N.America   iPhone\n",
       "5  137119F5A9E69421  2020-12-07  N.America   iPhone\n",
       "6  62F0C741CC42D0CC  2020-12-07       APAC   iPhone\n",
       "7  8942E64218C9A1ED  2020-12-07         EU       PC\n",
       "8  499AFACF904BBAE3  2020-12-07  N.America   iPhone\n",
       "9  FFCEA1179C253104  2020-12-07         EU  Android"
      ]
     },
     "execution_count": 138,
     "metadata": {},
     "output_type": "execute_result"
    }
   ],
   "source": [
    "users.head(10)"
   ]
  },
  {
   "cell_type": "markdown",
   "metadata": {},
   "source": [
    "## Events \n",
    "- `user_id`\n",
    "- `event_dt`: fecha y hora del evento\n",
    "- `event_name`: nombre del tipo de evento\n",
    "- `details`: datos adicionales sobre el evento (por ejemplo, el pedido total en USD para los eventos `purchase`)"
   ]
  },
  {
   "cell_type": "code",
   "execution_count": 139,
   "metadata": {},
   "outputs": [
    {
     "data": {
      "text/html": [
       "<div>\n",
       "<style scoped>\n",
       "    .dataframe tbody tr th:only-of-type {\n",
       "        vertical-align: middle;\n",
       "    }\n",
       "\n",
       "    .dataframe tbody tr th {\n",
       "        vertical-align: top;\n",
       "    }\n",
       "\n",
       "    .dataframe thead th {\n",
       "        text-align: right;\n",
       "    }\n",
       "</style>\n",
       "<table border=\"1\" class=\"dataframe\">\n",
       "  <thead>\n",
       "    <tr style=\"text-align: right;\">\n",
       "      <th></th>\n",
       "      <th>user_id</th>\n",
       "      <th>event_dt</th>\n",
       "      <th>event_name</th>\n",
       "      <th>details</th>\n",
       "    </tr>\n",
       "  </thead>\n",
       "  <tbody>\n",
       "    <tr>\n",
       "      <th>0</th>\n",
       "      <td>E1BDDCE0DAFA2679</td>\n",
       "      <td>2020-12-07 20:22:03</td>\n",
       "      <td>purchase</td>\n",
       "      <td>99.99</td>\n",
       "    </tr>\n",
       "    <tr>\n",
       "      <th>1</th>\n",
       "      <td>7B6452F081F49504</td>\n",
       "      <td>2020-12-07 09:22:53</td>\n",
       "      <td>purchase</td>\n",
       "      <td>9.99</td>\n",
       "    </tr>\n",
       "    <tr>\n",
       "      <th>2</th>\n",
       "      <td>9CD9F34546DF254C</td>\n",
       "      <td>2020-12-07 12:59:29</td>\n",
       "      <td>purchase</td>\n",
       "      <td>4.99</td>\n",
       "    </tr>\n",
       "    <tr>\n",
       "      <th>3</th>\n",
       "      <td>96F27A054B191457</td>\n",
       "      <td>2020-12-07 04:02:40</td>\n",
       "      <td>purchase</td>\n",
       "      <td>4.99</td>\n",
       "    </tr>\n",
       "    <tr>\n",
       "      <th>4</th>\n",
       "      <td>1FD7660FDF94CA1F</td>\n",
       "      <td>2020-12-07 10:15:09</td>\n",
       "      <td>purchase</td>\n",
       "      <td>4.99</td>\n",
       "    </tr>\n",
       "    <tr>\n",
       "      <th>5</th>\n",
       "      <td>831887FE7F2D6CBA</td>\n",
       "      <td>2020-12-07 06:50:29</td>\n",
       "      <td>purchase</td>\n",
       "      <td>4.99</td>\n",
       "    </tr>\n",
       "    <tr>\n",
       "      <th>6</th>\n",
       "      <td>6B2F726BFD5F8220</td>\n",
       "      <td>2020-12-07 11:27:42</td>\n",
       "      <td>purchase</td>\n",
       "      <td>4.99</td>\n",
       "    </tr>\n",
       "    <tr>\n",
       "      <th>7</th>\n",
       "      <td>BEB37715AACF53B0</td>\n",
       "      <td>2020-12-07 04:26:15</td>\n",
       "      <td>purchase</td>\n",
       "      <td>4.99</td>\n",
       "    </tr>\n",
       "    <tr>\n",
       "      <th>8</th>\n",
       "      <td>B5FA27F582227197</td>\n",
       "      <td>2020-12-07 01:46:37</td>\n",
       "      <td>purchase</td>\n",
       "      <td>4.99</td>\n",
       "    </tr>\n",
       "    <tr>\n",
       "      <th>9</th>\n",
       "      <td>A92195E3CFB83DBD</td>\n",
       "      <td>2020-12-07 00:32:07</td>\n",
       "      <td>purchase</td>\n",
       "      <td>4.99</td>\n",
       "    </tr>\n",
       "  </tbody>\n",
       "</table>\n",
       "</div>"
      ],
      "text/plain": [
       "            user_id             event_dt event_name  details\n",
       "0  E1BDDCE0DAFA2679  2020-12-07 20:22:03   purchase    99.99\n",
       "1  7B6452F081F49504  2020-12-07 09:22:53   purchase     9.99\n",
       "2  9CD9F34546DF254C  2020-12-07 12:59:29   purchase     4.99\n",
       "3  96F27A054B191457  2020-12-07 04:02:40   purchase     4.99\n",
       "4  1FD7660FDF94CA1F  2020-12-07 10:15:09   purchase     4.99\n",
       "5  831887FE7F2D6CBA  2020-12-07 06:50:29   purchase     4.99\n",
       "6  6B2F726BFD5F8220  2020-12-07 11:27:42   purchase     4.99\n",
       "7  BEB37715AACF53B0  2020-12-07 04:26:15   purchase     4.99\n",
       "8  B5FA27F582227197  2020-12-07 01:46:37   purchase     4.99\n",
       "9  A92195E3CFB83DBD  2020-12-07 00:32:07   purchase     4.99"
      ]
     },
     "execution_count": 139,
     "metadata": {},
     "output_type": "execute_result"
    }
   ],
   "source": [
    "events.head(10)"
   ]
  },
  {
   "cell_type": "markdown",
   "metadata": {},
   "source": [
    "## User Data \n",
    "- `user_id`\n",
    "- `ab_test`: nombre de la prueba\n",
    "- `group`: el grupo de prueba al que pertenecía el usuario"
   ]
  },
  {
   "cell_type": "code",
   "execution_count": 140,
   "metadata": {},
   "outputs": [
    {
     "data": {
      "text/html": [
       "<div>\n",
       "<style scoped>\n",
       "    .dataframe tbody tr th:only-of-type {\n",
       "        vertical-align: middle;\n",
       "    }\n",
       "\n",
       "    .dataframe tbody tr th {\n",
       "        vertical-align: top;\n",
       "    }\n",
       "\n",
       "    .dataframe thead th {\n",
       "        text-align: right;\n",
       "    }\n",
       "</style>\n",
       "<table border=\"1\" class=\"dataframe\">\n",
       "  <thead>\n",
       "    <tr style=\"text-align: right;\">\n",
       "      <th></th>\n",
       "      <th>user_id</th>\n",
       "      <th>group</th>\n",
       "      <th>ab_test</th>\n",
       "    </tr>\n",
       "  </thead>\n",
       "  <tbody>\n",
       "    <tr>\n",
       "      <th>0</th>\n",
       "      <td>D1ABA3E2887B6A73</td>\n",
       "      <td>A</td>\n",
       "      <td>recommender_system_test</td>\n",
       "    </tr>\n",
       "    <tr>\n",
       "      <th>1</th>\n",
       "      <td>A7A3664BD6242119</td>\n",
       "      <td>A</td>\n",
       "      <td>recommender_system_test</td>\n",
       "    </tr>\n",
       "    <tr>\n",
       "      <th>2</th>\n",
       "      <td>DABC14FDDFADD29E</td>\n",
       "      <td>A</td>\n",
       "      <td>recommender_system_test</td>\n",
       "    </tr>\n",
       "    <tr>\n",
       "      <th>3</th>\n",
       "      <td>04988C5DF189632E</td>\n",
       "      <td>A</td>\n",
       "      <td>recommender_system_test</td>\n",
       "    </tr>\n",
       "    <tr>\n",
       "      <th>4</th>\n",
       "      <td>4FF2998A348C484F</td>\n",
       "      <td>A</td>\n",
       "      <td>recommender_system_test</td>\n",
       "    </tr>\n",
       "    <tr>\n",
       "      <th>5</th>\n",
       "      <td>7473E0943673C09E</td>\n",
       "      <td>A</td>\n",
       "      <td>recommender_system_test</td>\n",
       "    </tr>\n",
       "    <tr>\n",
       "      <th>6</th>\n",
       "      <td>C46FE336D240A054</td>\n",
       "      <td>A</td>\n",
       "      <td>recommender_system_test</td>\n",
       "    </tr>\n",
       "    <tr>\n",
       "      <th>7</th>\n",
       "      <td>92CB588012C10D3D</td>\n",
       "      <td>A</td>\n",
       "      <td>recommender_system_test</td>\n",
       "    </tr>\n",
       "    <tr>\n",
       "      <th>8</th>\n",
       "      <td>B3A2485649E4A012</td>\n",
       "      <td>A</td>\n",
       "      <td>recommender_system_test</td>\n",
       "    </tr>\n",
       "    <tr>\n",
       "      <th>9</th>\n",
       "      <td>66FC298441D50783</td>\n",
       "      <td>A</td>\n",
       "      <td>recommender_system_test</td>\n",
       "    </tr>\n",
       "  </tbody>\n",
       "</table>\n",
       "</div>"
      ],
      "text/plain": [
       "            user_id group                  ab_test\n",
       "0  D1ABA3E2887B6A73     A  recommender_system_test\n",
       "1  A7A3664BD6242119     A  recommender_system_test\n",
       "2  DABC14FDDFADD29E     A  recommender_system_test\n",
       "3  04988C5DF189632E     A  recommender_system_test\n",
       "4  4FF2998A348C484F     A  recommender_system_test\n",
       "5  7473E0943673C09E     A  recommender_system_test\n",
       "6  C46FE336D240A054     A  recommender_system_test\n",
       "7  92CB588012C10D3D     A  recommender_system_test\n",
       "8  B3A2485649E4A012     A  recommender_system_test\n",
       "9  66FC298441D50783     A  recommender_system_test"
      ]
     },
     "execution_count": 140,
     "metadata": {},
     "output_type": "execute_result"
    }
   ],
   "source": [
    "user_data.head(10)"
   ]
  },
  {
   "cell_type": "markdown",
   "metadata": {},
   "source": [
    "# Preprocesamiento de Datos "
   ]
  },
  {
   "cell_type": "markdown",
   "metadata": {},
   "source": [
    "## Valores Ausentes "
   ]
  },
  {
   "cell_type": "markdown",
   "metadata": {},
   "source": [
    "### Marketing Events \n"
   ]
  },
  {
   "cell_type": "code",
   "execution_count": 141,
   "metadata": {},
   "outputs": [
    {
     "data": {
      "text/plain": [
       "name         0\n",
       "regions      0\n",
       "start_dt     0\n",
       "finish_dt    0\n",
       "dtype: int64"
      ]
     },
     "execution_count": 141,
     "metadata": {},
     "output_type": "execute_result"
    }
   ],
   "source": [
    "marketing_events.isna().sum()"
   ]
  },
  {
   "cell_type": "markdown",
   "metadata": {},
   "source": [
    "El dataset no muestra ningún valor ausente "
   ]
  },
  {
   "cell_type": "markdown",
   "metadata": {},
   "source": [
    "### Users "
   ]
  },
  {
   "cell_type": "code",
   "execution_count": 142,
   "metadata": {},
   "outputs": [
    {
     "data": {
      "text/plain": [
       "user_id       0\n",
       "first_date    0\n",
       "region        0\n",
       "device        0\n",
       "dtype: int64"
      ]
     },
     "execution_count": 142,
     "metadata": {},
     "output_type": "execute_result"
    }
   ],
   "source": [
    "users.isna().sum()"
   ]
  },
  {
   "cell_type": "markdown",
   "metadata": {},
   "source": [
    "El dataset no muestra ningún valor ausente "
   ]
  },
  {
   "cell_type": "markdown",
   "metadata": {},
   "source": [
    "### Events \n"
   ]
  },
  {
   "cell_type": "code",
   "execution_count": 143,
   "metadata": {},
   "outputs": [
    {
     "data": {
      "text/plain": [
       "user_id            0\n",
       "event_dt           0\n",
       "event_name         0\n",
       "details       363447\n",
       "dtype: int64"
      ]
     },
     "execution_count": 143,
     "metadata": {},
     "output_type": "execute_result"
    }
   ],
   "source": [
    "events.isna().sum()"
   ]
  },
  {
   "cell_type": "markdown",
   "metadata": {},
   "source": [
    "El dataset muestra una gran cantidad de valores ausentes en la columna `details`, sin embargo estos datos solamente dan información adicional para los diferentes eventos del dataset y el eliminarlos nos haría perder información muy importante para el estudio del embudo, por lo que no se eliminarán "
   ]
  },
  {
   "cell_type": "markdown",
   "metadata": {},
   "source": [
    "### User Data\n"
   ]
  },
  {
   "cell_type": "code",
   "execution_count": 144,
   "metadata": {},
   "outputs": [
    {
     "data": {
      "text/plain": [
       "user_id    0\n",
       "group      0\n",
       "ab_test    0\n",
       "dtype: int64"
      ]
     },
     "execution_count": 144,
     "metadata": {},
     "output_type": "execute_result"
    }
   ],
   "source": [
    "user_data.isna().sum()"
   ]
  },
  {
   "cell_type": "markdown",
   "metadata": {},
   "source": [
    "El dataset no muestra ningún valor ausente "
   ]
  },
  {
   "cell_type": "markdown",
   "metadata": {},
   "source": [
    "## ¿Es necesario convertir los datos?"
   ]
  },
  {
   "cell_type": "markdown",
   "metadata": {},
   "source": [
    "\n",
    "Utilizar la información general de los datasets para ver el tipo de datos actuales y tomar decisiones en base a el"
   ]
  },
  {
   "cell_type": "markdown",
   "metadata": {},
   "source": [
    "### Marketing Events\n"
   ]
  },
  {
   "cell_type": "code",
   "execution_count": 145,
   "metadata": {},
   "outputs": [
    {
     "name": "stdout",
     "output_type": "stream",
     "text": [
      "<class 'pandas.core.frame.DataFrame'>\n",
      "RangeIndex: 14 entries, 0 to 13\n",
      "Data columns (total 4 columns):\n",
      " #   Column     Non-Null Count  Dtype \n",
      "---  ------     --------------  ----- \n",
      " 0   name       14 non-null     object\n",
      " 1   regions    14 non-null     object\n",
      " 2   start_dt   14 non-null     object\n",
      " 3   finish_dt  14 non-null     object\n",
      "dtypes: object(4)\n",
      "memory usage: 580.0+ bytes\n"
     ]
    }
   ],
   "source": [
    "marketing_events.info()"
   ]
  },
  {
   "cell_type": "markdown",
   "metadata": {},
   "source": [
    "Las columnas referentes a las fechas de inicio y final deberían ser tipo datetime, pero son de tipo object y por esa razón se pasarán a tipo datetime"
   ]
  },
  {
   "cell_type": "code",
   "execution_count": 146,
   "metadata": {},
   "outputs": [],
   "source": [
    "# Convertir a tipo datetime\n",
    "marketing_events['start_dt'] = pd.to_datetime(marketing_events['start_dt'])\n",
    "marketing_events['finish_dt'] = pd.to_datetime(marketing_events['finish_dt'])"
   ]
  },
  {
   "cell_type": "markdown",
   "metadata": {},
   "source": [
    "### Users"
   ]
  },
  {
   "cell_type": "code",
   "execution_count": 147,
   "metadata": {},
   "outputs": [
    {
     "name": "stdout",
     "output_type": "stream",
     "text": [
      "<class 'pandas.core.frame.DataFrame'>\n",
      "RangeIndex: 58703 entries, 0 to 58702\n",
      "Data columns (total 4 columns):\n",
      " #   Column      Non-Null Count  Dtype \n",
      "---  ------      --------------  ----- \n",
      " 0   user_id     58703 non-null  object\n",
      " 1   first_date  58703 non-null  object\n",
      " 2   region      58703 non-null  object\n",
      " 3   device      58703 non-null  object\n",
      "dtypes: object(4)\n",
      "memory usage: 1.8+ MB\n"
     ]
    }
   ],
   "source": [
    "users.info()"
   ]
  },
  {
   "cell_type": "code",
   "execution_count": 148,
   "metadata": {},
   "outputs": [],
   "source": [
    "# Convertir a tipo datetime \n",
    "users['first_date'] = pd.to_datetime(users['first_date'])"
   ]
  },
  {
   "cell_type": "markdown",
   "metadata": {},
   "source": [
    "### Events "
   ]
  },
  {
   "cell_type": "code",
   "execution_count": 149,
   "metadata": {},
   "outputs": [
    {
     "name": "stdout",
     "output_type": "stream",
     "text": [
      "<class 'pandas.core.frame.DataFrame'>\n",
      "RangeIndex: 423761 entries, 0 to 423760\n",
      "Data columns (total 4 columns):\n",
      " #   Column      Non-Null Count   Dtype  \n",
      "---  ------      --------------   -----  \n",
      " 0   user_id     423761 non-null  object \n",
      " 1   event_dt    423761 non-null  object \n",
      " 2   event_name  423761 non-null  object \n",
      " 3   details     60314 non-null   float64\n",
      "dtypes: float64(1), object(3)\n",
      "memory usage: 12.9+ MB\n"
     ]
    }
   ],
   "source": [
    "events.info()"
   ]
  },
  {
   "cell_type": "code",
   "execution_count": 150,
   "metadata": {},
   "outputs": [],
   "source": [
    "# Convertir a tipo datetime \n",
    "events['event_dt'] = pd.to_datetime(events['event_dt'])"
   ]
  },
  {
   "cell_type": "markdown",
   "metadata": {},
   "source": [
    "### User Data "
   ]
  },
  {
   "cell_type": "code",
   "execution_count": 151,
   "metadata": {},
   "outputs": [
    {
     "name": "stdout",
     "output_type": "stream",
     "text": [
      "<class 'pandas.core.frame.DataFrame'>\n",
      "RangeIndex: 14525 entries, 0 to 14524\n",
      "Data columns (total 3 columns):\n",
      " #   Column   Non-Null Count  Dtype \n",
      "---  ------   --------------  ----- \n",
      " 0   user_id  14525 non-null  object\n",
      " 1   group    14525 non-null  object\n",
      " 2   ab_test  14525 non-null  object\n",
      "dtypes: object(3)\n",
      "memory usage: 340.6+ KB\n"
     ]
    }
   ],
   "source": [
    "user_data.info()"
   ]
  },
  {
   "cell_type": "markdown",
   "metadata": {},
   "source": [
    "## Valores Duplicados \n",
    "\n"
   ]
  },
  {
   "cell_type": "markdown",
   "metadata": {},
   "source": [
    "### Marketing Events \n"
   ]
  },
  {
   "cell_type": "code",
   "execution_count": 152,
   "metadata": {},
   "outputs": [
    {
     "data": {
      "text/plain": [
       "0"
      ]
     },
     "execution_count": 152,
     "metadata": {},
     "output_type": "execute_result"
    }
   ],
   "source": [
    "marketing_events.duplicated().sum()"
   ]
  },
  {
   "cell_type": "markdown",
   "metadata": {},
   "source": [
    "### Users "
   ]
  },
  {
   "cell_type": "code",
   "execution_count": 153,
   "metadata": {},
   "outputs": [
    {
     "data": {
      "text/plain": [
       "0"
      ]
     },
     "execution_count": 153,
     "metadata": {},
     "output_type": "execute_result"
    }
   ],
   "source": [
    "users.duplicated().sum()"
   ]
  },
  {
   "cell_type": "markdown",
   "metadata": {},
   "source": [
    "### Events "
   ]
  },
  {
   "cell_type": "code",
   "execution_count": 154,
   "metadata": {},
   "outputs": [
    {
     "data": {
      "text/plain": [
       "0"
      ]
     },
     "execution_count": 154,
     "metadata": {},
     "output_type": "execute_result"
    }
   ],
   "source": [
    "events.duplicated().sum()"
   ]
  },
  {
   "cell_type": "markdown",
   "metadata": {},
   "source": [
    "### User Data \n"
   ]
  },
  {
   "cell_type": "code",
   "execution_count": 155,
   "metadata": {},
   "outputs": [
    {
     "data": {
      "text/plain": [
       "0"
      ]
     },
     "execution_count": 155,
     "metadata": {},
     "output_type": "execute_result"
    }
   ],
   "source": [
    "user_data.duplicated().sum()"
   ]
  },
  {
   "cell_type": "markdown",
   "metadata": {},
   "source": [
    "# Análisis Exploratorio de Datos \n",
    "Antes de iniciar este analisis exploratorio, es importante crear un dataframe que contenga toda la informacion de los usuarios, para ello ocuparemos los df 'users', 'events' y 'user_data'"
   ]
  },
  {
   "cell_type": "markdown",
   "metadata": {},
   "source": [
    "## Unir la info de todos los usuarios en un solo DF"
   ]
  },
  {
   "cell_type": "code",
   "execution_count": 156,
   "metadata": {},
   "outputs": [
    {
     "name": "stdout",
     "output_type": "stream",
     "text": [
      "<class 'pandas.core.frame.DataFrame'>\n",
      "RangeIndex: 429476 entries, 0 to 429475\n",
      "Data columns (total 9 columns):\n",
      " #   Column      Non-Null Count   Dtype         \n",
      "---  ------      --------------   -----         \n",
      " 0   user_id     429476 non-null  object        \n",
      " 1   first_date  429476 non-null  datetime64[ns]\n",
      " 2   region      429476 non-null  object        \n",
      " 3   device      429476 non-null  object        \n",
      " 4   event_dt    429476 non-null  datetime64[ns]\n",
      " 5   event_name  429476 non-null  object        \n",
      " 6   details     61134 non-null   float64       \n",
      " 7   group       102838 non-null  object        \n",
      " 8   ab_test     102838 non-null  object        \n",
      "dtypes: datetime64[ns](2), float64(1), object(6)\n",
      "memory usage: 29.5+ MB\n"
     ]
    }
   ],
   "source": [
    "test_data = users.merge(events, on='user_id', how='left').merge(user_data, on='user_id', how='left')\n",
    "# Ver Informacion General \n",
    "test_data.info()"
   ]
  },
  {
   "cell_type": "markdown",
   "metadata": {},
   "source": [
    "Vemos que el DF resultante tiene demasiados valores ausentes en las columnas referentes a la prueba A/B, como lo son: 'group' y 'ab_test', por lo que se eliminaran los valores ausentes de estas columnas ya que son de usuarios que no estan registrados en ningun grupo de la prueba"
   ]
  },
  {
   "cell_type": "code",
   "execution_count": 157,
   "metadata": {},
   "outputs": [],
   "source": [
    "test_data.dropna(subset='group', inplace=True)\n",
    "# Agregar una columna con unicamente la fecha \n",
    "test_data['date'] = pd.to_datetime(test_data['event_dt'].dt.date)"
   ]
  },
  {
   "cell_type": "markdown",
   "metadata": {},
   "source": [
    "Antes de continuar es importante separar el DF en los grupos A y B para poder hacer comparaciones entre ambos y valorar los resultados de la prueba A/B "
   ]
  },
  {
   "cell_type": "code",
   "execution_count": 158,
   "metadata": {},
   "outputs": [],
   "source": [
    "# Separar el DF en los dos grupos \n",
    "\n",
    "group_A = test_data[test_data['group']=='A'] # Filtrar los datos con la informacion de los usuarios del grupo A\n",
    "group_B = test_data[test_data['group']=='B'] # Filtrar los datos con la informacion de los usuarios del grupo B"
   ]
  },
  {
   "cell_type": "code",
   "execution_count": 159,
   "metadata": {},
   "outputs": [
    {
     "name": "stdout",
     "output_type": "stream",
     "text": [
      "<class 'pandas.core.frame.DataFrame'>\n",
      "Index: 58705 entries, 0 to 429345\n",
      "Data columns (total 10 columns):\n",
      " #   Column      Non-Null Count  Dtype         \n",
      "---  ------      --------------  -----         \n",
      " 0   user_id     58705 non-null  object        \n",
      " 1   first_date  58705 non-null  datetime64[ns]\n",
      " 2   region      58705 non-null  object        \n",
      " 3   device      58705 non-null  object        \n",
      " 4   event_dt    58705 non-null  datetime64[ns]\n",
      " 5   event_name  58705 non-null  object        \n",
      " 6   details     8619 non-null   float64       \n",
      " 7   group       58705 non-null  object        \n",
      " 8   ab_test     58705 non-null  object        \n",
      " 9   date        58705 non-null  datetime64[ns]\n",
      "dtypes: datetime64[ns](3), float64(1), object(6)\n",
      "memory usage: 4.9+ MB\n"
     ]
    }
   ],
   "source": [
    "group_A.info() "
   ]
  },
  {
   "cell_type": "markdown",
   "metadata": {},
   "source": [
    "## Conversión en las diferentes etapas del embudo "
   ]
  },
  {
   "cell_type": "code",
   "execution_count": 160,
   "metadata": {},
   "outputs": [
    {
     "name": "stdout",
     "output_type": "stream",
     "text": [
      "['product_page' 'login' 'product_cart' 'purchase']\n"
     ]
    }
   ],
   "source": [
    "# Ver los eventos posibles \n",
    "print(test_data['event_name'].unique())"
   ]
  },
  {
   "cell_type": "markdown",
   "metadata": {},
   "source": [
    "Los 4 eventos registrados son:\n",
    "+ Login\n",
    "+ Product Page   \n",
    "+ Product Cart \n",
    "+ Purchase \n",
    "\n",
    "El sentido logico del embudo seria el siguiente:\n",
    "\n",
    "Los usuarios al llegar por primera vez van a la pagina 'Login', luego de registrarse o iniciar sesion van a 'Product Page', en el caso que les agrade un producto agregan este al carrito, por lo que la siguiente etapa del embudo es en 'Product Cart' y por ultimo la pagina 'Purchase'. Esto nos deja un total de 3 etapas en el embudo"
   ]
  },
  {
   "cell_type": "code",
   "execution_count": 161,
   "metadata": {},
   "outputs": [],
   "source": [
    "'''  \n",
    "Para calcular la conversion en las diferentes etapas es necesario saber cuantos usuarios se han registrado en cada evento. \n",
    "Agruparemos los datos para ambas muestras y calcularemos los usuarios unicos registrados. \n",
    "'''\n",
    "# Calcular los usuarios por evento del grupo A \n",
    "user_per_event_A = group_A.groupby('event_name', as_index=False)['user_id'].nunique().sort_values(by='user_id',ascending=False)\n",
    "# Renombrar columnas  \n",
    "user_per_event_A.columns = ['event_name','users_count']\n",
    "# Calcular los usuarios por evento del grupo B \n",
    "user_per_event_B = group_B.groupby('event_name', as_index=False)['user_id'].nunique().sort_values(by='user_id',ascending=False)\n",
    "# Renombrar columnas \n",
    "user_per_event_B.columns = ['event_name','users_count']"
   ]
  },
  {
   "cell_type": "markdown",
   "metadata": {},
   "source": [
    "### Conversion en las etapas del embudo en el grupo A"
   ]
  },
  {
   "cell_type": "code",
   "execution_count": 162,
   "metadata": {},
   "outputs": [
    {
     "name": "stderr",
     "output_type": "stream",
     "text": [
      "C:\\Users\\User\\AppData\\Local\\Temp\\ipykernel_19688\\4211925170.py:1: FutureWarning: Calling int on a single element Series is deprecated and will raise a TypeError in the future. Use int(ser.iloc[0]) instead\n",
      "  login_to_product_A = round((int(user_per_event_A['users_count'][user_per_event_A['event_name']=='product_page']) / int(user_per_event_A['users_count'][user_per_event_A['event_name']=='login']))*100,2)\n",
      "C:\\Users\\User\\AppData\\Local\\Temp\\ipykernel_19688\\4211925170.py:2: FutureWarning: Calling int on a single element Series is deprecated and will raise a TypeError in the future. Use int(ser.iloc[0]) instead\n",
      "  product_to_cart_A = round((int(user_per_event_A['users_count'][user_per_event_A['event_name']=='product_cart']) / int(user_per_event_A['users_count'][user_per_event_A['event_name']=='product_page']))*100,2)\n",
      "C:\\Users\\User\\AppData\\Local\\Temp\\ipykernel_19688\\4211925170.py:3: FutureWarning: Calling int on a single element Series is deprecated and will raise a TypeError in the future. Use int(ser.iloc[0]) instead\n",
      "  cart_to_purchase_A = round((int(user_per_event_A['users_count'][user_per_event_A['event_name']=='purchase']) / int(user_per_event_A['users_count'][user_per_event_A['event_name']=='product_cart']))*100,2)\n"
     ]
    }
   ],
   "source": [
    "login_to_product_A = round((int(user_per_event_A['users_count'][user_per_event_A['event_name']=='product_page']) / int(user_per_event_A['users_count'][user_per_event_A['event_name']=='login']))*100,2)\n",
    "product_to_cart_A = round((int(user_per_event_A['users_count'][user_per_event_A['event_name']=='product_cart']) / int(user_per_event_A['users_count'][user_per_event_A['event_name']=='product_page']))*100,2)\n",
    "cart_to_purchase_A = round((int(user_per_event_A['users_count'][user_per_event_A['event_name']=='purchase']) / int(user_per_event_A['users_count'][user_per_event_A['event_name']=='product_cart']))*100,2)"
   ]
  },
  {
   "cell_type": "code",
   "execution_count": 163,
   "metadata": {},
   "outputs": [
    {
     "data": {
      "text/plain": [
       "(66.15, 47.68, 108.01)"
      ]
     },
     "execution_count": 163,
     "metadata": {},
     "output_type": "execute_result"
    }
   ],
   "source": [
    "login_to_product_A, product_to_cart_A, cart_to_purchase_A"
   ]
  },
  {
   "cell_type": "markdown",
   "metadata": {},
   "source": [
    "### Conversion en las etapas del embudo en el grupo B"
   ]
  },
  {
   "cell_type": "code",
   "execution_count": 164,
   "metadata": {},
   "outputs": [
    {
     "name": "stderr",
     "output_type": "stream",
     "text": [
      "C:\\Users\\User\\AppData\\Local\\Temp\\ipykernel_19688\\4162439894.py:1: FutureWarning: Calling int on a single element Series is deprecated and will raise a TypeError in the future. Use int(ser.iloc[0]) instead\n",
      "  login_to_product_B = round((int(user_per_event_B['users_count'][user_per_event_B['event_name']=='product_page']) / int(user_per_event_B['users_count'][user_per_event_B['event_name']=='login'])) * 100,2)\n",
      "C:\\Users\\User\\AppData\\Local\\Temp\\ipykernel_19688\\4162439894.py:2: FutureWarning: Calling int on a single element Series is deprecated and will raise a TypeError in the future. Use int(ser.iloc[0]) instead\n",
      "  product_to_cart_B = round((int(user_per_event_B['users_count'][user_per_event_B['event_name']=='product_cart']) / int(user_per_event_B['users_count'][user_per_event_B['event_name']=='product_page'])) * 100,2)\n",
      "C:\\Users\\User\\AppData\\Local\\Temp\\ipykernel_19688\\4162439894.py:3: FutureWarning: Calling int on a single element Series is deprecated and will raise a TypeError in the future. Use int(ser.iloc[0]) instead\n",
      "  cart_to_purchase_B = round((int(user_per_event_B['users_count'][user_per_event_B['event_name']=='purchase']) / int(user_per_event_B['users_count'][user_per_event_B['event_name']=='product_cart'])) * 100,2)\n"
     ]
    }
   ],
   "source": [
    "login_to_product_B = round((int(user_per_event_B['users_count'][user_per_event_B['event_name']=='product_page']) / int(user_per_event_B['users_count'][user_per_event_B['event_name']=='login'])) * 100,2)\n",
    "product_to_cart_B = round((int(user_per_event_B['users_count'][user_per_event_B['event_name']=='product_cart']) / int(user_per_event_B['users_count'][user_per_event_B['event_name']=='product_page'])) * 100,2)\n",
    "cart_to_purchase_B = round((int(user_per_event_B['users_count'][user_per_event_B['event_name']=='purchase']) / int(user_per_event_B['users_count'][user_per_event_B['event_name']=='product_cart'])) * 100,2)"
   ]
  },
  {
   "cell_type": "code",
   "execution_count": 165,
   "metadata": {},
   "outputs": [
    {
     "data": {
      "text/plain": [
       "(64.25, 51.1, 98.58)"
      ]
     },
     "execution_count": 165,
     "metadata": {},
     "output_type": "execute_result"
    }
   ],
   "source": [
    "login_to_product_B, product_to_cart_B, cart_to_purchase_B"
   ]
  },
  {
   "cell_type": "markdown",
   "metadata": {},
   "source": [
    "Interpretación:\n",
    "\n",
    "+ El grupo A muestra una conversión ligeramente mayor en la etapa de Login to Product Page y Cart to Purchase, mientras que el grupo B tiene una conversión mayor en la etapa de Product \n",
    "Page to Cart.\n",
    "+ En general, ambas conversiones son bastante similares, con diferencias relativamente pequeñas."
   ]
  },
  {
   "cell_type": "markdown",
   "metadata": {},
   "source": [
    "## Eventos por usuario \n"
   ]
  },
  {
   "cell_type": "code",
   "execution_count": 166,
   "metadata": {},
   "outputs": [],
   "source": [
    "# Calcular los eventos de cada usuario en el grupo A\n",
    "event_per_user_A = group_A.groupby('user_id')['event_name'].count().reset_index()\n",
    "# Calcular los eventos de cada usuario en el grupo B\n",
    "event_per_user_B = group_B.groupby('user_id')['event_name'].count().reset_index()"
   ]
  },
  {
   "cell_type": "code",
   "execution_count": 167,
   "metadata": {},
   "outputs": [
    {
     "data": {
      "text/html": [
       "<div>\n",
       "<style scoped>\n",
       "    .dataframe tbody tr th:only-of-type {\n",
       "        vertical-align: middle;\n",
       "    }\n",
       "\n",
       "    .dataframe tbody tr th {\n",
       "        vertical-align: top;\n",
       "    }\n",
       "\n",
       "    .dataframe thead th {\n",
       "        text-align: right;\n",
       "    }\n",
       "</style>\n",
       "<table border=\"1\" class=\"dataframe\">\n",
       "  <thead>\n",
       "    <tr style=\"text-align: right;\">\n",
       "      <th></th>\n",
       "      <th>event_name</th>\n",
       "    </tr>\n",
       "  </thead>\n",
       "  <tbody>\n",
       "    <tr>\n",
       "      <th>count</th>\n",
       "      <td>7874.000000</td>\n",
       "    </tr>\n",
       "    <tr>\n",
       "      <th>mean</th>\n",
       "      <td>7.455550</td>\n",
       "    </tr>\n",
       "    <tr>\n",
       "      <th>std</th>\n",
       "      <td>4.475159</td>\n",
       "    </tr>\n",
       "    <tr>\n",
       "      <th>min</th>\n",
       "      <td>1.000000</td>\n",
       "    </tr>\n",
       "    <tr>\n",
       "      <th>25%</th>\n",
       "      <td>4.000000</td>\n",
       "    </tr>\n",
       "    <tr>\n",
       "      <th>50%</th>\n",
       "      <td>6.000000</td>\n",
       "    </tr>\n",
       "    <tr>\n",
       "      <th>75%</th>\n",
       "      <td>9.000000</td>\n",
       "    </tr>\n",
       "    <tr>\n",
       "      <th>max</th>\n",
       "      <td>40.000000</td>\n",
       "    </tr>\n",
       "  </tbody>\n",
       "</table>\n",
       "</div>"
      ],
      "text/plain": [
       "        event_name\n",
       "count  7874.000000\n",
       "mean      7.455550\n",
       "std       4.475159\n",
       "min       1.000000\n",
       "25%       4.000000\n",
       "50%       6.000000\n",
       "75%       9.000000\n",
       "max      40.000000"
      ]
     },
     "execution_count": 167,
     "metadata": {},
     "output_type": "execute_result"
    }
   ],
   "source": [
    "# Ver estadisticas descriptivas de los eventos por usuario del grupo A \n",
    "event_per_user_A.describe()"
   ]
  },
  {
   "cell_type": "code",
   "execution_count": 168,
   "metadata": {},
   "outputs": [
    {
     "data": {
      "text/html": [
       "<div>\n",
       "<style scoped>\n",
       "    .dataframe tbody tr th:only-of-type {\n",
       "        vertical-align: middle;\n",
       "    }\n",
       "\n",
       "    .dataframe tbody tr th {\n",
       "        vertical-align: top;\n",
       "    }\n",
       "\n",
       "    .dataframe thead th {\n",
       "        text-align: right;\n",
       "    }\n",
       "</style>\n",
       "<table border=\"1\" class=\"dataframe\">\n",
       "  <thead>\n",
       "    <tr style=\"text-align: right;\">\n",
       "      <th></th>\n",
       "      <th>event_name</th>\n",
       "    </tr>\n",
       "  </thead>\n",
       "  <tbody>\n",
       "    <tr>\n",
       "      <th>count</th>\n",
       "      <td>6205.000000</td>\n",
       "    </tr>\n",
       "    <tr>\n",
       "      <th>mean</th>\n",
       "      <td>7.112490</td>\n",
       "    </tr>\n",
       "    <tr>\n",
       "      <th>std</th>\n",
       "      <td>4.246201</td>\n",
       "    </tr>\n",
       "    <tr>\n",
       "      <th>min</th>\n",
       "      <td>1.000000</td>\n",
       "    </tr>\n",
       "    <tr>\n",
       "      <th>25%</th>\n",
       "      <td>4.000000</td>\n",
       "    </tr>\n",
       "    <tr>\n",
       "      <th>50%</th>\n",
       "      <td>6.000000</td>\n",
       "    </tr>\n",
       "    <tr>\n",
       "      <th>75%</th>\n",
       "      <td>9.000000</td>\n",
       "    </tr>\n",
       "    <tr>\n",
       "      <th>max</th>\n",
       "      <td>36.000000</td>\n",
       "    </tr>\n",
       "  </tbody>\n",
       "</table>\n",
       "</div>"
      ],
      "text/plain": [
       "        event_name\n",
       "count  6205.000000\n",
       "mean      7.112490\n",
       "std       4.246201\n",
       "min       1.000000\n",
       "25%       4.000000\n",
       "50%       6.000000\n",
       "75%       9.000000\n",
       "max      36.000000"
      ]
     },
     "execution_count": 168,
     "metadata": {},
     "output_type": "execute_result"
    }
   ],
   "source": [
    "# Ver estadisticas descriptivas de los eventos por usuario del grupo B\n",
    "event_per_user_B.describe()"
   ]
  },
  {
   "cell_type": "code",
   "execution_count": 169,
   "metadata": {},
   "outputs": [
    {
     "data": {
      "image/png": "[encoded data removed]",
      "text/plain": [
       "<Figure size 1000x500 with 1 Axes>"
      ]
     },
     "metadata": {},
     "output_type": "display_data"
    }
   ],
   "source": [
    "plt.figure(figsize=(10,5))\n",
    "plt.hist(event_per_user_A['event_name'], label='A')\n",
    "plt.hist(event_per_user_B['event_name'], label='B')\n",
    "plt.title('Distribucion de los eventos por usuario. Grupo A')\n",
    "plt.legend()\n",
    "plt.show()"
   ]
  },
  {
   "cell_type": "markdown",
   "metadata": {},
   "source": [
    "+ La media de eventos por usuario es similar en ambos grupos, siendo ligeramente superior en el grupo A (7.46) comparado con el grupo B (7.11).\n",
    "+ La distribución de eventos parece bastante equitativa, con rangos y percentiles similares, indicando que ambos grupos tienen comportamientos de uso similares en términos de eventos por usuario."
   ]
  },
  {
   "cell_type": "markdown",
   "metadata": {},
   "source": [
    "## ¿Hay usuarios que están presentes en ambas muestras?"
   ]
  },
  {
   "cell_type": "code",
   "execution_count": 170,
   "metadata": {},
   "outputs": [],
   "source": [
    "# Agrupar a los usuarios con la cantidad unica de grupos a los que pertenecen de forma descendente \n",
    "double_group = test_data.groupby('user_id')['group'].nunique().sort_values(ascending=False)"
   ]
  },
  {
   "cell_type": "code",
   "execution_count": 171,
   "metadata": {},
   "outputs": [],
   "source": [
    "# Guardar los usuarios en dos grupos de una lista \n",
    "doubles = double_group.index[double_group==2].tolist()"
   ]
  },
  {
   "cell_type": "code",
   "execution_count": 172,
   "metadata": {},
   "outputs": [],
   "source": [
    "# Sacar a los usuarios con dos grupos del DF \n",
    "test_data = test_data[~test_data['user_id'].isin(doubles)]"
   ]
  },
  {
   "cell_type": "code",
   "execution_count": 173,
   "metadata": {},
   "outputs": [],
   "source": [
    "# Filtrar los usuarios del grupo A de aquellos que estan en ambos grupos \n",
    "group_A = group_A[~group_A['user_id'].isin(doubles)]\n",
    "# Filtrar los usuarios del grupo A de aquellos que estan en ambos grupos \n",
    "group_B = group_B[~group_B['user_id'].isin(doubles)]"
   ]
  },
  {
   "cell_type": "markdown",
   "metadata": {},
   "source": [
    "## Distribucion del numero de eventos entre los dias \n"
   ]
  },
  {
   "cell_type": "code",
   "execution_count": 174,
   "metadata": {},
   "outputs": [],
   "source": [
    "events_per_day_A = group_A.groupby('date', as_index=False)['event_name'].count()\n",
    "events_per_day_A.columns = ['date','events_count']\n",
    "events_per_day_B = group_B.groupby('date', as_index=False)['event_name'].count()\n",
    "events_per_day_B.columns = ['date','events_count']"
   ]
  },
  {
   "cell_type": "code",
   "execution_count": 175,
   "metadata": {},
   "outputs": [
    {
     "data": {
      "image/png": "[encoded data removed]",
      "text/plain": [
       "<Figure size 1000x500 with 1 Axes>"
      ]
     },
     "metadata": {},
     "output_type": "display_data"
    }
   ],
   "source": [
    "plt.figure(figsize=(10,5))\n",
    "plt.plot(events_per_day_A['date'], events_per_day_A['events_count'], label='A')\n",
    "plt.plot(events_per_day_B['date'], events_per_day_B['events_count'], label='B')\n",
    "plt.legend()\n",
    "plt.show()"
   ]
  },
  {
   "cell_type": "markdown",
   "metadata": {},
   "source": [
    "Grupo A:\n",
    "\n",
    "Los eventos diarios varían considerablemente, con un pico notable el 21 de diciembre (4794 eventos).\n",
    "\n",
    "Otros días con alta actividad incluyen el 14 de diciembre (3413 eventos) y el 20 de diciembre (3869 eventos).\n",
    "\n",
    "Grupo B:\n",
    "\n",
    "Similar al grupo A, el 21 de diciembre muestra un pico de actividad (3191 eventos).\n",
    "\n",
    "Otros días con alta actividad incluyen el 14 de diciembre (2387 eventos) y el 20 de diciembre (2465 eventos).\n",
    "\n",
    "Interpretación:\n",
    "\n",
    "+ Ambos grupos muestran picos de actividad en fechas similares, lo que podría indicar la influencia de campañas de marketing o promociones especiales en esos días.\n",
    "+ La distribución general de eventos a lo largo de los días es consistente entre ambos grupos, lo que sugiere que los eventos externos que afectan a un grupo también afectan al otro de manera similar.\n",
    "+ Ambos grupos muestran una gran caida a medida se va acabando la prueba A/B, esto podria implicar que las campanas realizadas en estas fechas no fueron exitosas/rentables y que el grupo B no mostro una diferencia notable en su comportamiento en comparacion con el grupo A"
   ]
  },
  {
   "cell_type": "markdown",
   "metadata": {},
   "source": [
    "# Prueba A/B"
   ]
  },
  {
   "cell_type": "markdown",
   "metadata": {},
   "source": [
    "## Utilizar prueba A/B para comprobar la diferencia entre las proporciones"
   ]
  },
  {
   "cell_type": "code",
   "execution_count": 184,
   "metadata": {},
   "outputs": [],
   "source": [
    "user_per_event_B\n",
    "def test(df_1,df_2,previous_event,event):\n",
    "    total1 = df_1[df_1['event_name'] == previous_event]['users_count'].iloc[0]\n",
    "    successes1 = df_1[df_1['event_name'] == event]['users_count'].iloc[0]\n",
    "    \n",
    "    total2 = df_2[df_2['event_name'] == previous_event]['users_count'].iloc[0]\n",
    "    successes2 = df_2[df_2['event_name'] == event]['users_count'].iloc[0]\n",
    "    \n",
    "    z_stat, p_value = proportions_ztest([successes1,successes2],[total1,total2])\n",
    "    # Determinar si hay una diferencia estadísticamente significativa\n",
    "    if p_value < 0.05:\n",
    "        result = f\"Hay una diferencia estadísticamente significativa entre los grupos para el evento '{event}'.\"\n",
    "    else:\n",
    "        result = f\"No hay evidencia suficiente para afirmar que hay una diferencia estadísticamente significativa entre los grupos para el evento '{event}'.\"\n",
    "\n",
    "    return result"
   ]
  },
  {
   "cell_type": "code",
   "execution_count": 187,
   "metadata": {},
   "outputs": [
    {
     "name": "stdout",
     "output_type": "stream",
     "text": [
      "Resultado de la prueba para la primera etapa: \n",
      " Hay una diferencia estadísticamente significativa entre los grupos para el evento 'product_page'.\n",
      "\n",
      "Resultado de la prueba para la primera etapa: \n",
      " Hay una diferencia estadísticamente significativa entre los grupos para el evento 'product_cart'.\n",
      "\n",
      "Resultado de la prueba para la primera etapa: \n",
      " No hay evidencia suficiente para afirmar que hay una diferencia estadísticamente significativa entre los grupos para el evento 'purchase'.\n"
     ]
    },
    {
     "name": "stderr",
     "output_type": "stream",
     "text": [
      "c:\\Users\\User\\AppData\\Local\\Programs\\Python\\Python312\\Lib\\site-packages\\statsmodels\\stats\\proportion.py:1025: RuntimeWarning: invalid value encountered in sqrt\n",
      "  std_diff = np.sqrt(var_)\n"
     ]
    }
   ],
   "source": [
    "print(f'Resultado de la prueba para la primera etapa: \\n {test(user_per_event_A,user_per_event_B,\"login\",\"product_page\")}')\n",
    "print()\n",
    "print(f'Resultado de la prueba para la primera etapa: \\n {test(user_per_event_A,user_per_event_B,\"product_page\",\"product_cart\")}')\n",
    "print()\n",
    "print(f'Resultado de la prueba para la primera etapa: \\n {test(user_per_event_A,user_per_event_B,\"product_cart\",\"purchase\")}')"
   ]
  },
  {
   "cell_type": "markdown",
   "metadata": {},
   "source": [
    "Conclusiones sobre los Resultados de la Prueba Z\n",
    "\n",
    "Resultados de la Prueba Z:\n",
    "\n",
    "Primera Etapa: Login to Product Page\n",
    "\n",
    "Hay una diferencia estadísticamente significativa entre los grupos para el evento product_page.\n",
    "\n",
    "Segunda Etapa: Product Page to Cart\n",
    "\n",
    "Hay una diferencia estadísticamente significativa entre los grupos para el evento product_cart.\n",
    "\n",
    "Tercera Etapa: Cart to Purchase\n",
    "\n",
    "No hay evidencia suficiente para afirmar que hay una diferencia estadísticamente significativa entre los grupos para el evento purchase.\n",
    "\n",
    "Interpretación de los Resultados:\n",
    "\n",
    "1. Primera Etapa: Login to Product Page\n",
    "\n",
    "Significado: La diferencia significativa en la primera etapa indica que el nuevo sistema de recomendaciones del grupo B está afectando de manera significativa la tasa de conversión de Login to Product Page.\n",
    "\n",
    "Implicación: Los usuarios en el grupo B, con el nuevo sistema de recomendaciones, tienen una diferente (mejor o peor, según el sentido del z-score) probabilidad de visitar la página del producto después de iniciar sesión en comparación con el grupo A.\n",
    "\n",
    "2. Segunda Etapa: Product Page to Cart\n",
    "\n",
    "Significado: La diferencia significativa en la segunda etapa sugiere que el nuevo sistema de recomendaciones también impacta significativamente la tasa de conversión de Product Page to Cart.\n",
    "\n",
    "Implicación: El sistema de recomendaciones está afectando cómo los usuarios pasan de ver una página de producto a agregar productos al carrito. Este impacto puede ser positivo (mejor conversión) o negativo (peor conversión) dependiendo del signo del z-score.\n",
    "\n",
    "3. Tercera Etapa: Cart to Purchase\n",
    "\n",
    "Significado: La falta de diferencia significativa en la tercera etapa sugiere que el nuevo sistema de recomendaciones no tiene un impacto estadísticamente significativo en la tasa de conversión de Cart to Purchase.\n",
    "\n",
    "Implicación: Aunque los usuarios en el grupo B pueden estar más o menos inclinados a agregar productos al carrito, esto no se traduce en una diferencia significativa en las compras finales. Esto indica que el nuevo sistema de recomendaciones no mejora ni empeora significativamente la conversión final en la etapa de compra.\n",
    "\n",
    "Conclusiones Generales:\n",
    "\n",
    "Impacto en las Primeras Etapas:\n",
    "\n",
    "El nuevo sistema de recomendaciones tiene un impacto significativo en las primeras dos etapas del embudo (Login to Product Page y Product Page to Cart). Esto puede implicar que el sistema está influenciando cómo los usuarios interactúan con las páginas de productos y deciden agregar productos al carrito.\n",
    "\n",
    "Falta de Impacto en la Compra Final:\n",
    "\n",
    "La ausencia de una diferencia significativa en la etapa final (Cart to Purchase) sugiere que, aunque el sistema puede influir en las decisiones intermedias, no logra impactar la decisión de compra final. Este es un hallazgo crucial, ya que el objetivo final de cualquier mejora en el embudo de conversión es aumentar las ventas.\n",
    "\n",
    "Consideraciones para la Implementación:\n",
    "\n",
    "Dado que el nuevo sistema de recomendaciones no mejora la conversión final de Cart to Purchase, su implementación debe ser reconsiderada. Podría ser beneficioso realizar ajustes adicionales al sistema de recomendaciones para mejorar su efectividad en la etapa final del embudo.\n",
    "\n",
    "Análisis Adicional:\n",
    "\n",
    "Realizar un análisis cualitativo para entender por qué los usuarios con el nuevo sistema de recomendaciones no están completando más compras puede proporcionar insights valiosos. Entrevistas de usuarios, análisis de comportamiento y mapas de calor pueden ayudar a identificar barreras en la etapa final.\n",
    "\n",
    "Recomendaciones:\n",
    "\n",
    "Mejorar el Sistema de Recomendaciones:\n",
    "\n",
    "Revisar y ajustar el sistema de recomendaciones para abordar específicamente la etapa de Cart to Purchase.\n",
    "Considerar la implementación de incentivos o recordatorios para los usuarios que agregan productos al carrito pero no completan la compra.\n"
   ]
  },
  {
   "cell_type": "markdown",
   "metadata": {},
   "source": [
    "## ¿Qué se decir sobre los resultados de la prueba A/B?\n",
    "En conclusión, el análisis de la prueba A/B realizada para evaluar el nuevo sistema de recomendaciones ha revelado varios hallazgos clave. A pesar de observar diferencias significativas en las etapas iniciales del embudo de conversión, estas diferencias no se mantuvieron en la etapa final de Cart to Purchase. Esto sugiere que el nuevo sistema de recomendaciones influye en el comportamiento de navegación y la intención de compra, pero no se traduce en un aumento significativo en las conversiones finales. Además, la disminución de eventos hacia el final del período de prueba podría indicar factores externos o una falta de interés sostenido por parte de los usuarios. Dado que el objetivo principal de cualquier sistema de recomendaciones es mejorar las ventas finales, y el grupo B no ha mostrado una mejora clara en este aspecto en comparación con el grupo A, no es recomendable continuar con esta implementación sin realizar ajustes significativos. Se recomienda realizar mejoras en el sistema de recomendaciones basadas en los insights obtenidos, implementar estrategias adicionales para mantener el interés del usuario y considerar realizar nuevas pruebas A/B con estos cambios antes de una implementación completa.\n"
   ]
  }
 ],
 "metadata": {
  "kernelspec": {
   "display_name": "Python 3",
   "language": "python",
   "name": "python3"
  },
  "language_info": {
   "codemirror_mode": {
    "name": "ipython",
    "version": 3
   },
   "file_extension": ".py",
   "mimetype": "text/x-python",
   "name": "python",
   "nbconvert_exporter": "python",
   "pygments_lexer": "ipython3",
   "version": "3.12.0"
  }
 },
 "nbformat": 4,
 "nbformat_minor": 2
}
