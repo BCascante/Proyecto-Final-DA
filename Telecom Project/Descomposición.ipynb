{
 "cells": [
  {
   "cell_type": "markdown",
   "metadata": {},
   "source": [
    "# Telecomunicaciones: Identificar Operadores Ineficaces \n"
   ]
  },
  {
   "cell_type": "markdown",
   "metadata": {},
   "source": [
    "## Descripción del Ejercicio \n",
    "El servicio de telefonía virtual CallMeMaybe está desarrollando una nueva función que brindará a los supervisores y las supervisores información sobre los operadores menos eficaces. Se considera que un operador es ineficaz si tiene una gran cantidad de llamadas entrantes perdidas (internas y externas) y un tiempo de espera prolongado para las llamadas entrantes. Además, si se supone que un operador debe realizar llamadas salientes, un número reducido de ellas también será un signo de ineficacia.\n",
    "\n",
    "- Lleva a cabo el análisis exploratorio de datos\n",
    "- Identificar operadores ineficaces\n",
    "- Prueba las hipótesis estadísticas"
   ]
  },
  {
   "cell_type": "markdown",
   "metadata": {},
   "source": [
    "## Descripción de los Datos \n",
    "Los datasets contienen información sobre el uso del servicio de telefonía virtual CallMeMaybe. Sus clientes son organizaciones que necesitan distribuir gran cantidad de llamadas entrantes entre varios operadores, o realizar llamadas salientes a través de sus operadores. Los operadores también pueden realizar llamadas internas para comunicarse entre ellos. Estas llamadas se realizan a través de la red de CallMeMaybe. \n"
   ]
  },
  {
   "cell_type": "markdown",
   "metadata": {},
   "source": [
    "### Telecom_Dataset \n",
    "El dataset comprimido `telecom_dataset_us.csv` contiene las siguientes columnas:\n",
    "\n",
    "- `user_id`: ID de la cuenta de cliente\n",
    "- `date`: fecha en la que se recuperaron las estadísticas\n",
    "- `direction`: \"dirección\" de llamada (`out` para saliente, `in` para entrante)\n",
    "- `internal`: si la llamada fue interna (entre los operadores de un cliente o clienta)\n",
    "- `operator_id`: identificador del operador\n",
    "- `is_missed_call`: si fue una llamada perdida\n",
    "- `calls_count`: número de llamadas\n",
    "- `call_duration`: duración de la llamada (sin incluir el tiempo de espera)\n",
    "- `total_call_duration`: duración de la llamada (incluido el tiempo de espera)"
   ]
  },
  {
   "cell_type": "markdown",
   "metadata": {},
   "source": [
    "### Telecom_Clients\n",
    "- `user_id`: ID de usuario/a\n",
    "- `tariff_plan`: tarifa actual de la clientela\n",
    "- `date_start`: fecha de registro de la clientela"
   ]
  },
  {
   "cell_type": "markdown",
   "metadata": {},
   "source": [
    "# Definir el Objetivo \n",
    "Objetivo: Identificar a los operadores menos eficaces basándonos en la cantidad de llamadas entrantes perdidas, tiempo de espera prolongado para las llamadas entrantes y un número reducido de llamadas salientes si corresponde.\n",
    "\n",
    "Preguntas clave:\n",
    "\n",
    "+ ¿Qué queremos conseguir y por qué? \n",
    "    \n",
    "    Identificar a los operadores ineficaces para mejorar el servicio y la eficiencia de los operadores.\n",
    "+ ¿A quién le interesa lo que producimos? \n",
    "    \n",
    "    A los supervisores y gestores de CallMeMaybe.\n",
    "+ ¿Qué decisiones se tomarán de acuerdo a nuestro análisis? \n",
    "    \n",
    "    Implementar medidas para mejorar la eficiencia de los operadores ineficaces, tales como entrenamiento adicional, ajustes en la distribución de llamadas, etc."
   ]
  },
  {
   "cell_type": "markdown",
   "metadata": {},
   "source": [
    "# Especificar Detalles \n",
    "Reformulamos la tarea inicial:\n",
    "Tarea: Determinar cuáles operadores son ineficaces según la cantidad de llamadas perdidas, tiempo de espera prolongado y número reducido de llamadas salientes."
   ]
  },
  {
   "cell_type": "markdown",
   "metadata": {},
   "source": [
    "# Proponer Hipótesis \n",
    "Hipótesis:\n",
    "\n",
    "Los operadores ineficaces tienen un mayor número de llamadas entrantes perdidas.\n",
    "\n",
    "Los operadores ineficaces tienen un tiempo de espera promedio mayor para las llamadas entrantes.\n",
    "\n",
    "Los operadores ineficaces realizan un número reducido de llamadas salientes."
   ]
  },
  {
   "cell_type": "markdown",
   "metadata": {},
   "source": [
    "# Plan de Acción\n"
   ]
  },
  {
   "cell_type": "markdown",
   "metadata": {},
   "source": [
    "## Preprocesamiento \n",
    "Valores ausentes:\n",
    "\n",
    "    Identificar columnas con valores ausentes y el porcentaje de ausencias\n",
    "\n",
    "    Decidir la estrategia de imputación o eliminación\n",
    "\n",
    "Tipo de correspondencia:\n",
    "\n",
    "    Verificar que los tipos de datos de cada columna sean correctos (e.g., fechas, números)\n",
    "\n",
    "Valores duplicados:\n",
    "\n",
    "    Identificar y eliminar registros duplicados\n",
    "\n",
    "Exactitud de los nombres de columnas:\n",
    "\n",
    "    Revisar y corregir los nombres de las columnas si es necesario"
   ]
  },
  {
   "cell_type": "markdown",
   "metadata": {},
   "source": [
    "## Análisis Exploratorio de Datos \n",
    "Descripción general del dataset:\n",
    "\n",
    "    Utilizar info(), describe(), y otras funciones para obtener una visión general del dataset\n",
    "\n",
    "Estadísticas descriptivas de las variables:\n",
    "\n",
    "    Calcular estadísticas como media, mediana, desviación estándar, etc.\n",
    "\n",
    "Visualización de la distribución de variables clave:\n",
    "\n",
    "    Histogramas, boxplots, y gráficos de barras para entender la distribución de variables como calls_count, call_duration, y total_call_duration\n",
    "\n",
    "Identificación de patrones y relaciones iniciales:\n",
    "\n",
    "    Gráficos de dispersión, heatmaps de correlación, etc., para identificar posibles relaciones"
   ]
  },
  {
   "cell_type": "markdown",
   "metadata": {},
   "source": [
    "## Identificación de Operadores Ineficaces \n",
    "Llamadas perdidas:\n",
    "\n",
    "    Filtrar llamadas entrantes y calcular el porcentaje de llamadas perdidas por operador\n",
    "\n",
    "    Comparar con el umbral establecido\n",
    "\n",
    "Tiempo de espera:\n",
    "\n",
    "    Calcular el tiempo de espera promedio para las llamadas entrantes por operador\n",
    "\n",
    "    Comparar con el umbral establecido\n",
    "\n",
    "Llamadas salientes:\n",
    "\n",
    "    Filtrar llamadas salientes y calcular el número total de llamadas salientes por operador\n",
    "\n",
    "    Comparar con el umbral establecido"
   ]
  },
  {
   "cell_type": "markdown",
   "metadata": {},
   "source": [
    "## Hipótesis \n",
    "+ Definir y realizar pruebas de hipótesis:\n",
    "\n",
    "    Comparar las métricas de operadores ineficaces con operadores promedio\n",
    "\n",
    "    Utilizar pruebas estadísticas como t-test o ANOVA para evaluar diferencias significativas"
   ]
  },
  {
   "cell_type": "markdown",
   "metadata": {},
   "source": [
    "## Visualizaciones \n",
    "Crear gráficos y tablas:\n",
    "\n",
    "    Visualizar operadores ineficaces usando gráficos de barras, boxplots, etc.\n",
    "\n",
    "Resumen y recomendaciones:\n",
    "\n",
    "    Resumir los hallazgos clave\n",
    "\n",
    "    Sugerir medidas para mejorar la eficacia de los operadores"
   ]
  }
 ],
 "metadata": {
  "kernelspec": {
   "display_name": "Python 3",
   "language": "python",
   "name": "python3"
  },
  "language_info": {
   "codemirror_mode": {
    "name": "ipython",
    "version": 3
   },
   "file_extension": ".py",
   "mimetype": "text/x-python",
   "name": "python",
   "nbconvert_exporter": "python",
   "pygments_lexer": "ipython3",
   "version": "3.12.0"
  }
 },
 "nbformat": 4,
 "nbformat_minor": 2
}
