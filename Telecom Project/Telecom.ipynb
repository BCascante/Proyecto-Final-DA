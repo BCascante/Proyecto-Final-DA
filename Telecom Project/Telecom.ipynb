{
 "cells": [
  {
   "cell_type": "markdown",
   "metadata": {},
   "source": [
    "# Importar Librerías \n"
   ]
  },
  {
   "cell_type": "code",
   "execution_count": 173,
   "metadata": {},
   "outputs": [],
   "source": [
    "# Manipulación de datos \n",
    "import pandas as pd \n",
    "import numpy as np \n",
    "import math \n",
    "import datetime as dt \n",
    "# Visualización de datos \n",
    "import seaborn as sns \n",
    "import matplotlib.pyplot as plt \n",
    "# Libreria Estadistica \n",
    "import scipy.stats as st "
   ]
  },
  {
   "cell_type": "markdown",
   "metadata": {},
   "source": [
    "# Importar Datasets \n",
    "Los datasets contienen información sobre el uso del servicio de telefonía virtual CallMeMaybe. Sus clientes son organizaciones que necesitan distribuir gran cantidad de llamadas entrantes entre varios operadores, o realizar llamadas salientes a través de sus operadores. Los operadores también pueden realizar llamadas internas para comunicarse entre ellos. Estas llamadas se realizan a través de la red de CallMeMaybe."
   ]
  },
  {
   "cell_type": "markdown",
   "metadata": {},
   "source": [
    "## Telecom Dataset \n",
    "- `user_id`: ID de la cuenta de cliente\n",
    "- `date`: fecha en la que se recuperaron las estadísticas\n",
    "- `direction`: \"dirección\" de llamada (`out` para saliente, `in` para entrante)\n",
    "- `internal`: si la llamada fue interna (entre los operadores de un cliente o clienta)\n",
    "- `operator_id`: identificador del operador\n",
    "- `is_missed_call`: si fue una llamada perdida\n",
    "- `calls_count`: número de llamadas\n",
    "- `call_duration`: duración de la llamada (sin incluir el tiempo de espera)\n",
    "- `total_call_duration`: duración de la llamada (incluido el tiempo de espera)"
   ]
  },
  {
   "cell_type": "code",
   "execution_count": 106,
   "metadata": {},
   "outputs": [
    {
     "data": {
      "text/html": [
       "<div>\n",
       "<style scoped>\n",
       "    .dataframe tbody tr th:only-of-type {\n",
       "        vertical-align: middle;\n",
       "    }\n",
       "\n",
       "    .dataframe tbody tr th {\n",
       "        vertical-align: top;\n",
       "    }\n",
       "\n",
       "    .dataframe thead th {\n",
       "        text-align: right;\n",
       "    }\n",
       "</style>\n",
       "<table border=\"1\" class=\"dataframe\">\n",
       "  <thead>\n",
       "    <tr style=\"text-align: right;\">\n",
       "      <th></th>\n",
       "      <th>user_id</th>\n",
       "      <th>date</th>\n",
       "      <th>direction</th>\n",
       "      <th>internal</th>\n",
       "      <th>operator_id</th>\n",
       "      <th>is_missed_call</th>\n",
       "      <th>calls_count</th>\n",
       "      <th>call_duration</th>\n",
       "      <th>total_call_duration</th>\n",
       "    </tr>\n",
       "  </thead>\n",
       "  <tbody>\n",
       "    <tr>\n",
       "      <th>0</th>\n",
       "      <td>166377</td>\n",
       "      <td>2019-08-04 00:00:00+03:00</td>\n",
       "      <td>in</td>\n",
       "      <td>False</td>\n",
       "      <td>NaN</td>\n",
       "      <td>True</td>\n",
       "      <td>2</td>\n",
       "      <td>0</td>\n",
       "      <td>4</td>\n",
       "    </tr>\n",
       "    <tr>\n",
       "      <th>1</th>\n",
       "      <td>166377</td>\n",
       "      <td>2019-08-05 00:00:00+03:00</td>\n",
       "      <td>out</td>\n",
       "      <td>True</td>\n",
       "      <td>880022.0</td>\n",
       "      <td>True</td>\n",
       "      <td>3</td>\n",
       "      <td>0</td>\n",
       "      <td>5</td>\n",
       "    </tr>\n",
       "    <tr>\n",
       "      <th>2</th>\n",
       "      <td>166377</td>\n",
       "      <td>2019-08-05 00:00:00+03:00</td>\n",
       "      <td>out</td>\n",
       "      <td>True</td>\n",
       "      <td>880020.0</td>\n",
       "      <td>True</td>\n",
       "      <td>1</td>\n",
       "      <td>0</td>\n",
       "      <td>1</td>\n",
       "    </tr>\n",
       "    <tr>\n",
       "      <th>3</th>\n",
       "      <td>166377</td>\n",
       "      <td>2019-08-05 00:00:00+03:00</td>\n",
       "      <td>out</td>\n",
       "      <td>True</td>\n",
       "      <td>880020.0</td>\n",
       "      <td>False</td>\n",
       "      <td>1</td>\n",
       "      <td>10</td>\n",
       "      <td>18</td>\n",
       "    </tr>\n",
       "    <tr>\n",
       "      <th>4</th>\n",
       "      <td>166377</td>\n",
       "      <td>2019-08-05 00:00:00+03:00</td>\n",
       "      <td>out</td>\n",
       "      <td>False</td>\n",
       "      <td>880022.0</td>\n",
       "      <td>True</td>\n",
       "      <td>3</td>\n",
       "      <td>0</td>\n",
       "      <td>25</td>\n",
       "    </tr>\n",
       "    <tr>\n",
       "      <th>5</th>\n",
       "      <td>166377</td>\n",
       "      <td>2019-08-05 00:00:00+03:00</td>\n",
       "      <td>out</td>\n",
       "      <td>False</td>\n",
       "      <td>880020.0</td>\n",
       "      <td>False</td>\n",
       "      <td>2</td>\n",
       "      <td>3</td>\n",
       "      <td>29</td>\n",
       "    </tr>\n",
       "    <tr>\n",
       "      <th>6</th>\n",
       "      <td>166377</td>\n",
       "      <td>2019-08-05 00:00:00+03:00</td>\n",
       "      <td>out</td>\n",
       "      <td>False</td>\n",
       "      <td>880020.0</td>\n",
       "      <td>True</td>\n",
       "      <td>8</td>\n",
       "      <td>0</td>\n",
       "      <td>50</td>\n",
       "    </tr>\n",
       "    <tr>\n",
       "      <th>7</th>\n",
       "      <td>166377</td>\n",
       "      <td>2019-08-05 00:00:00+03:00</td>\n",
       "      <td>in</td>\n",
       "      <td>False</td>\n",
       "      <td>NaN</td>\n",
       "      <td>True</td>\n",
       "      <td>6</td>\n",
       "      <td>0</td>\n",
       "      <td>35</td>\n",
       "    </tr>\n",
       "    <tr>\n",
       "      <th>8</th>\n",
       "      <td>166377</td>\n",
       "      <td>2019-08-05 00:00:00+03:00</td>\n",
       "      <td>out</td>\n",
       "      <td>False</td>\n",
       "      <td>880020.0</td>\n",
       "      <td>True</td>\n",
       "      <td>8</td>\n",
       "      <td>0</td>\n",
       "      <td>50</td>\n",
       "    </tr>\n",
       "    <tr>\n",
       "      <th>9</th>\n",
       "      <td>166377</td>\n",
       "      <td>2019-08-06 00:00:00+03:00</td>\n",
       "      <td>in</td>\n",
       "      <td>False</td>\n",
       "      <td>NaN</td>\n",
       "      <td>True</td>\n",
       "      <td>4</td>\n",
       "      <td>0</td>\n",
       "      <td>62</td>\n",
       "    </tr>\n",
       "  </tbody>\n",
       "</table>\n",
       "</div>"
      ],
      "text/plain": [
       "   user_id                       date direction internal  operator_id  \\\n",
       "0   166377  2019-08-04 00:00:00+03:00        in    False          NaN   \n",
       "1   166377  2019-08-05 00:00:00+03:00       out     True     880022.0   \n",
       "2   166377  2019-08-05 00:00:00+03:00       out     True     880020.0   \n",
       "3   166377  2019-08-05 00:00:00+03:00       out     True     880020.0   \n",
       "4   166377  2019-08-05 00:00:00+03:00       out    False     880022.0   \n",
       "5   166377  2019-08-05 00:00:00+03:00       out    False     880020.0   \n",
       "6   166377  2019-08-05 00:00:00+03:00       out    False     880020.0   \n",
       "7   166377  2019-08-05 00:00:00+03:00        in    False          NaN   \n",
       "8   166377  2019-08-05 00:00:00+03:00       out    False     880020.0   \n",
       "9   166377  2019-08-06 00:00:00+03:00        in    False          NaN   \n",
       "\n",
       "   is_missed_call  calls_count  call_duration  total_call_duration  \n",
       "0            True            2              0                    4  \n",
       "1            True            3              0                    5  \n",
       "2            True            1              0                    1  \n",
       "3           False            1             10                   18  \n",
       "4            True            3              0                   25  \n",
       "5           False            2              3                   29  \n",
       "6            True            8              0                   50  \n",
       "7            True            6              0                   35  \n",
       "8            True            8              0                   50  \n",
       "9            True            4              0                   62  "
      ]
     },
     "execution_count": 106,
     "metadata": {},
     "output_type": "execute_result"
    }
   ],
   "source": [
    "data = pd.read_csv('telecom_dataset_us.csv')\n",
    "data.head(10)"
   ]
  },
  {
   "cell_type": "markdown",
   "metadata": {},
   "source": [
    "## Telecom Clients \n",
    "- `user_id`: ID de usuario/a\n",
    "- `tariff_plan`: tarifa actual de la clientela\n",
    "- `date_start`: fecha de registro de la clientela"
   ]
  },
  {
   "cell_type": "code",
   "execution_count": 107,
   "metadata": {},
   "outputs": [
    {
     "data": {
      "text/html": [
       "<div>\n",
       "<style scoped>\n",
       "    .dataframe tbody tr th:only-of-type {\n",
       "        vertical-align: middle;\n",
       "    }\n",
       "\n",
       "    .dataframe tbody tr th {\n",
       "        vertical-align: top;\n",
       "    }\n",
       "\n",
       "    .dataframe thead th {\n",
       "        text-align: right;\n",
       "    }\n",
       "</style>\n",
       "<table border=\"1\" class=\"dataframe\">\n",
       "  <thead>\n",
       "    <tr style=\"text-align: right;\">\n",
       "      <th></th>\n",
       "      <th>user_id</th>\n",
       "      <th>tariff_plan</th>\n",
       "      <th>date_start</th>\n",
       "    </tr>\n",
       "  </thead>\n",
       "  <tbody>\n",
       "    <tr>\n",
       "      <th>0</th>\n",
       "      <td>166713</td>\n",
       "      <td>A</td>\n",
       "      <td>2019-08-15</td>\n",
       "    </tr>\n",
       "    <tr>\n",
       "      <th>1</th>\n",
       "      <td>166901</td>\n",
       "      <td>A</td>\n",
       "      <td>2019-08-23</td>\n",
       "    </tr>\n",
       "    <tr>\n",
       "      <th>2</th>\n",
       "      <td>168527</td>\n",
       "      <td>A</td>\n",
       "      <td>2019-10-29</td>\n",
       "    </tr>\n",
       "    <tr>\n",
       "      <th>3</th>\n",
       "      <td>167097</td>\n",
       "      <td>A</td>\n",
       "      <td>2019-09-01</td>\n",
       "    </tr>\n",
       "    <tr>\n",
       "      <th>4</th>\n",
       "      <td>168193</td>\n",
       "      <td>A</td>\n",
       "      <td>2019-10-16</td>\n",
       "    </tr>\n",
       "    <tr>\n",
       "      <th>5</th>\n",
       "      <td>167764</td>\n",
       "      <td>A</td>\n",
       "      <td>2019-09-30</td>\n",
       "    </tr>\n",
       "    <tr>\n",
       "      <th>6</th>\n",
       "      <td>167050</td>\n",
       "      <td>A</td>\n",
       "      <td>2019-08-29</td>\n",
       "    </tr>\n",
       "    <tr>\n",
       "      <th>7</th>\n",
       "      <td>168252</td>\n",
       "      <td>A</td>\n",
       "      <td>2019-10-17</td>\n",
       "    </tr>\n",
       "    <tr>\n",
       "      <th>8</th>\n",
       "      <td>168495</td>\n",
       "      <td>A</td>\n",
       "      <td>2019-10-28</td>\n",
       "    </tr>\n",
       "    <tr>\n",
       "      <th>9</th>\n",
       "      <td>167879</td>\n",
       "      <td>A</td>\n",
       "      <td>2019-10-03</td>\n",
       "    </tr>\n",
       "  </tbody>\n",
       "</table>\n",
       "</div>"
      ],
      "text/plain": [
       "   user_id tariff_plan  date_start\n",
       "0   166713           A  2019-08-15\n",
       "1   166901           A  2019-08-23\n",
       "2   168527           A  2019-10-29\n",
       "3   167097           A  2019-09-01\n",
       "4   168193           A  2019-10-16\n",
       "5   167764           A  2019-09-30\n",
       "6   167050           A  2019-08-29\n",
       "7   168252           A  2019-10-17\n",
       "8   168495           A  2019-10-28\n",
       "9   167879           A  2019-10-03"
      ]
     },
     "execution_count": 107,
     "metadata": {},
     "output_type": "execute_result"
    }
   ],
   "source": [
    "clients = pd.read_csv('telecom_clients_us.csv')\n",
    "clients.head(10)"
   ]
  },
  {
   "cell_type": "markdown",
   "metadata": {},
   "source": [
    "# Preprocesamiento de Datos "
   ]
  },
  {
   "cell_type": "markdown",
   "metadata": {},
   "source": [
    "## Valores Ausentes "
   ]
  },
  {
   "cell_type": "markdown",
   "metadata": {},
   "source": [
    "### Data_Df"
   ]
  },
  {
   "cell_type": "code",
   "execution_count": 108,
   "metadata": {},
   "outputs": [
    {
     "data": {
      "text/plain": [
       "user_id                   0\n",
       "date                      0\n",
       "direction                 0\n",
       "internal                117\n",
       "operator_id            8172\n",
       "is_missed_call            0\n",
       "calls_count               0\n",
       "call_duration             0\n",
       "total_call_duration       0\n",
       "dtype: int64"
      ]
     },
     "execution_count": 108,
     "metadata": {},
     "output_type": "execute_result"
    }
   ],
   "source": [
    "# Usar 'isna()' para ver la cantidad de valores ausentes en las distintas columnas del df\n",
    "data.isna().sum()"
   ]
  },
  {
   "cell_type": "markdown",
   "metadata": {},
   "source": [
    "Vemos que la columna con el identificador de los operarios tiene varios valores ausentes, por lo que al ser esta la columna con los valores ausentes lo mejor es eliminar todos estos valores ausentes ya que estos no nos ayudan con nuestro objetivo que es identificar a los operarios ineficientes y en este caso hace falta una de las cosas más importantes que es el identificador del usuario"
   ]
  },
  {
   "cell_type": "code",
   "execution_count": 109,
   "metadata": {},
   "outputs": [],
   "source": [
    "# Eliminar valores duplicados \n",
    "data.dropna(subset='operator_id', inplace=True)"
   ]
  },
  {
   "cell_type": "markdown",
   "metadata": {},
   "source": [
    "### Clients_Df"
   ]
  },
  {
   "cell_type": "code",
   "execution_count": 110,
   "metadata": {},
   "outputs": [
    {
     "data": {
      "text/plain": [
       "user_id        0\n",
       "tariff_plan    0\n",
       "date_start     0\n",
       "dtype: int64"
      ]
     },
     "execution_count": 110,
     "metadata": {},
     "output_type": "execute_result"
    }
   ],
   "source": [
    "clients.isna().sum()"
   ]
  },
  {
   "cell_type": "markdown",
   "metadata": {},
   "source": [
    "El dataset con la información de los clientes no tiene valores ausentes"
   ]
  },
  {
   "cell_type": "markdown",
   "metadata": {},
   "source": [
    "## Tipos de datos correctos"
   ]
  },
  {
   "cell_type": "markdown",
   "metadata": {},
   "source": [
    "### Data_DF"
   ]
  },
  {
   "cell_type": "code",
   "execution_count": 111,
   "metadata": {},
   "outputs": [
    {
     "name": "stdout",
     "output_type": "stream",
     "text": [
      "<class 'pandas.core.frame.DataFrame'>\n",
      "Index: 45730 entries, 1 to 53900\n",
      "Data columns (total 9 columns):\n",
      " #   Column               Non-Null Count  Dtype  \n",
      "---  ------               --------------  -----  \n",
      " 0   user_id              45730 non-null  int64  \n",
      " 1   date                 45730 non-null  object \n",
      " 2   direction            45730 non-null  object \n",
      " 3   internal             45670 non-null  object \n",
      " 4   operator_id          45730 non-null  float64\n",
      " 5   is_missed_call       45730 non-null  bool   \n",
      " 6   calls_count          45730 non-null  int64  \n",
      " 7   call_duration        45730 non-null  int64  \n",
      " 8   total_call_duration  45730 non-null  int64  \n",
      "dtypes: bool(1), float64(1), int64(4), object(3)\n",
      "memory usage: 3.2+ MB\n"
     ]
    }
   ],
   "source": [
    "# Ver información general del dataset \n",
    "data.info()"
   ]
  },
  {
   "cell_type": "markdown",
   "metadata": {},
   "source": [
    "En la información general del df se logra observar que hay varias columnas con el tipo de dato incorrecto para lo que significan, por ejemplo: las columnas que guardan los identificadores tanto de los usuarios como de los operadores son de tipo 'int' y para este tipo de información es mejor que se trabajen como strings, también con la columna date, esta debería ser de tipo datetime."
   ]
  },
  {
   "cell_type": "code",
   "execution_count": 112,
   "metadata": {},
   "outputs": [],
   "source": [
    "# Convertir los ID a tipo object\n",
    "data[['user_id','operator_id']] = data[['user_id','operator_id']].astype(str)\n",
    "# Convertir la columna referente a las fechas a tipo datetime  \n",
    "data['date'] = pd.to_datetime(data['date'])\n",
    "# Eliminar la zona horaria\n",
    "data['date'] = data['date'].dt.tz_convert(None)\n",
    "# Reemplazar la columna existente con solo la fecha en tipo datetime\n",
    "data['date'] = pd.to_datetime(data['date'].dt.date)"
   ]
  },
  {
   "cell_type": "markdown",
   "metadata": {},
   "source": [
    "### Clients_Df"
   ]
  },
  {
   "cell_type": "code",
   "execution_count": 113,
   "metadata": {},
   "outputs": [
    {
     "name": "stdout",
     "output_type": "stream",
     "text": [
      "<class 'pandas.core.frame.DataFrame'>\n",
      "RangeIndex: 732 entries, 0 to 731\n",
      "Data columns (total 3 columns):\n",
      " #   Column       Non-Null Count  Dtype \n",
      "---  ------       --------------  ----- \n",
      " 0   user_id      732 non-null    int64 \n",
      " 1   tariff_plan  732 non-null    object\n",
      " 2   date_start   732 non-null    object\n",
      "dtypes: int64(1), object(2)\n",
      "memory usage: 17.3+ KB\n"
     ]
    }
   ],
   "source": [
    "clients.info()"
   ]
  },
  {
   "cell_type": "markdown",
   "metadata": {},
   "source": [
    "En el df de los clientes solo se tiene que cambiar el tipo de datos para la columna 'user_id' y 'date_start' a tipo object y datetime respectivamente"
   ]
  },
  {
   "cell_type": "code",
   "execution_count": 114,
   "metadata": {},
   "outputs": [],
   "source": [
    "# Convertir a tipo object\n",
    "clients['user_id'] = clients['user_id'].astype(str)\n",
    "# Convertir a datetime\n",
    "clients['date_start'] = pd.to_datetime(clients['date_start'])"
   ]
  },
  {
   "cell_type": "markdown",
   "metadata": {},
   "source": [
    "## Valores Ausentes "
   ]
  },
  {
   "cell_type": "markdown",
   "metadata": {},
   "source": [
    "### Data_Df"
   ]
  },
  {
   "cell_type": "code",
   "execution_count": 115,
   "metadata": {},
   "outputs": [
    {
     "data": {
      "text/plain": [
       "4184"
      ]
     },
     "execution_count": 115,
     "metadata": {},
     "output_type": "execute_result"
    }
   ],
   "source": [
    "data.duplicated().sum()"
   ]
  },
  {
   "cell_type": "code",
   "execution_count": 116,
   "metadata": {},
   "outputs": [],
   "source": [
    "data = data.drop_duplicates()"
   ]
  },
  {
   "cell_type": "markdown",
   "metadata": {},
   "source": [
    "### Clients_Df"
   ]
  },
  {
   "cell_type": "code",
   "execution_count": 117,
   "metadata": {},
   "outputs": [
    {
     "data": {
      "text/plain": [
       "0"
      ]
     },
     "execution_count": 117,
     "metadata": {},
     "output_type": "execute_result"
    }
   ],
   "source": [
    "clients.duplicated().sum()"
   ]
  },
  {
   "cell_type": "markdown",
   "metadata": {},
   "source": [
    "# Análisis Exploratorio de Datos \n",
    "En este analisis exploratorio las caracteristicas a estudiar seran las llamadas perdidas, tiempo de espera en las llamadas y la cantidad de llamadas realizadas por los operadores.\n",
    "\n",
    "Recordemos que para considerar a un operador como ineficiente tiene que cumplir estas caracteristicas: \n",
    "+ Muchas llamadas perdidad entrantes  \n",
    "+ Tiempo de espera muy prolongado \n",
    "+ Pocas llamadas realizadas\n",
    "\n",
    "Al estudiar y analizar la distribucion de estas caracteristicas podremos establecer los umbrales para determinar a partir de cuando un operador es ineficiente, algo que puede ser de bastante ayuda al definir los umbrales son los percentiles, ya que estos nos ayudan a tener una de idea de que valores son normales y cuales no."
   ]
  },
  {
   "cell_type": "code",
   "execution_count": 118,
   "metadata": {},
   "outputs": [],
   "source": [
    "# Unir los df en uno solo\n",
    "telecom = data.merge(clients, on='user_id',how='left')\n",
    "# Definir una funcion para calcular percentiles\n",
    "def percentiles(df,column): \n",
    "    result = np.percentile(df[column], [90,95,99])\n",
    "    return result"
   ]
  },
  {
   "cell_type": "markdown",
   "metadata": {},
   "source": [
    "## Llamadas perdidas"
   ]
  },
  {
   "cell_type": "code",
   "execution_count": 119,
   "metadata": {},
   "outputs": [
    {
     "data": {
      "image/png": "[encoded data removed]",
      "text/plain": [
       "<Figure size 800x600 with 1 Axes>"
      ]
     },
     "metadata": {},
     "output_type": "display_data"
    }
   ],
   "source": [
    "plt.figure(figsize=(8, 6))\n",
    "sns.countplot(x='is_missed_call', data=telecom)\n",
    "plt.title('Distribución de Llamadas Perdidas')\n",
    "plt.xlabel('¿Llamada Perdida?')\n",
    "plt.ylabel('Conteo')\n",
    "plt.xticks(ticks=[0, 1], labels=['No', 'Sí'])\n",
    "plt.show()"
   ]
  },
  {
   "cell_type": "code",
   "execution_count": 120,
   "metadata": {},
   "outputs": [],
   "source": [
    "# Filtrar el DF con los valores de aquellas llamadas entrantes que no se contestan  \n",
    "missed_calls = telecom[(telecom['is_missed_call']==True) & (telecom['direction']=='in')]\n",
    "# Contar cuantas llamadas perdidas tiene cada operador \n",
    "m_calls = missed_calls.groupby('operator_id',as_index=False)['is_missed_call'].count().sort_values(by='is_missed_call', ascending=False)"
   ]
  },
  {
   "cell_type": "code",
   "execution_count": 121,
   "metadata": {},
   "outputs": [
    {
     "data": {
      "image/png": "[encoded data removed]",
      "text/plain": [
       "<Figure size 1500x500 with 1 Axes>"
      ]
     },
     "metadata": {},
     "output_type": "display_data"
    }
   ],
   "source": [
    "# Ver distribucion de las llamadas entrantes perdidas\n",
    "plt.figure(figsize=(15,5))\n",
    "plt.hist(m_calls['is_missed_call'])\n",
    "plt.title('Distribucion de la cantidad de llamadas perdidas')\n",
    "plt.show()"
   ]
  },
  {
   "cell_type": "code",
   "execution_count": 122,
   "metadata": {},
   "outputs": [
    {
     "name": "stdout",
     "output_type": "stream",
     "text": [
      "Los percentiles 90, 95 y 99 de las llamadas perdidas son: [ 6.2  10.1  16.62] y la media de llamadas perdidas es: 2.87\n"
     ]
    }
   ],
   "source": [
    "# Ver los percentiles de las llamadas perdidas \n",
    "print(f'Los percentiles 90, 95 y 99 de las llamadas perdidas son: {percentiles(m_calls,'is_missed_call')} y la media de llamadas perdidas es: {round(m_calls['is_missed_call'].mean(),2)}')"
   ]
  },
  {
   "cell_type": "markdown",
   "metadata": {},
   "source": [
    "Los resultados obtenidos nos muestran que en promedio los operadores tienen 2.87 llamadas entrantes perdidas y que el 95% de ellos tiene como maximo 10 llamadas entrantes perdidas, por lo que se concluye que aquellos operadores que tienen mas de 10 llamadas entrantes perdidas ya cumplen con una caracteristica para ser catalogado como operador ineficiente"
   ]
  },
  {
   "cell_type": "markdown",
   "metadata": {},
   "source": [
    "## Tiempo de espera en llamadas"
   ]
  },
  {
   "cell_type": "code",
   "execution_count": 147,
   "metadata": {},
   "outputs": [
    {
     "name": "stderr",
     "output_type": "stream",
     "text": [
      "C:\\Users\\User\\AppData\\Local\\Temp\\ipykernel_17728\\655232825.py:4: SettingWithCopyWarning: \n",
      "A value is trying to be set on a copy of a slice from a DataFrame.\n",
      "Try using .loc[row_indexer,col_indexer] = value instead\n",
      "\n",
      "See the caveats in the documentation: https://pandas.pydata.org/pandas-docs/stable/user_guide/indexing.html#returning-a-view-versus-a-copy\n",
      "  incoming_calls['waiting_min'] = (incoming_calls['total_call_duration'] - incoming_calls['call_duration']) / 60\n"
     ]
    }
   ],
   "source": [
    "# Calcular el tiempo de espera para las llamadas entrantes\n",
    "incoming_calls = telecom[telecom['direction']=='in']\n",
    "# Crear columna con el tiempo de espera en minutos \n",
    "incoming_calls['waiting_min'] = (incoming_calls['total_call_duration'] - incoming_calls['call_duration']) / 60"
   ]
  },
  {
   "cell_type": "code",
   "execution_count": 138,
   "metadata": {},
   "outputs": [
    {
     "data": {
      "image/png": "[encoded data removed]",
      "text/plain": [
       "<Figure size 1000x500 with 1 Axes>"
      ]
     },
     "metadata": {},
     "output_type": "display_data"
    }
   ],
   "source": [
    "# Calcular el tiempo de espera promedio por operador \n",
    "mean_wait_time = incoming_calls.groupby('operator_id',as_index=False)['waiting_min'].mean().sort_values(by='waiting_min', ascending=False)\n",
    "# Visualizar distribucion del tiempo de espera \n",
    "plt.figure(figsize=(10,5))\n",
    "plt.hist(mean_wait_time['waiting_min'], bins=7)\n",
    "plt.title('Distribucion del tiempo de espera en minutos promedio')\n",
    "plt.show()"
   ]
  },
  {
   "cell_type": "code",
   "execution_count": 154,
   "metadata": {},
   "outputs": [
    {
     "data": {
      "text/html": [
       "<div>\n",
       "<style scoped>\n",
       "    .dataframe tbody tr th:only-of-type {\n",
       "        vertical-align: middle;\n",
       "    }\n",
       "\n",
       "    .dataframe tbody tr th {\n",
       "        vertical-align: top;\n",
       "    }\n",
       "\n",
       "    .dataframe thead th {\n",
       "        text-align: right;\n",
       "    }\n",
       "</style>\n",
       "<table border=\"1\" class=\"dataframe\">\n",
       "  <thead>\n",
       "    <tr style=\"text-align: right;\">\n",
       "      <th></th>\n",
       "      <th>operator_id</th>\n",
       "      <th>waiting_min</th>\n",
       "    </tr>\n",
       "  </thead>\n",
       "  <tbody>\n",
       "    <tr>\n",
       "      <th>337</th>\n",
       "      <td>919794.0</td>\n",
       "      <td>16.789583</td>\n",
       "    </tr>\n",
       "    <tr>\n",
       "      <th>206</th>\n",
       "      <td>906070.0</td>\n",
       "      <td>14.830000</td>\n",
       "    </tr>\n",
       "    <tr>\n",
       "      <th>335</th>\n",
       "      <td>919790.0</td>\n",
       "      <td>14.446721</td>\n",
       "    </tr>\n",
       "    <tr>\n",
       "      <th>445</th>\n",
       "      <td>931458.0</td>\n",
       "      <td>11.366026</td>\n",
       "    </tr>\n",
       "    <tr>\n",
       "      <th>358</th>\n",
       "      <td>921318.0</td>\n",
       "      <td>10.256970</td>\n",
       "    </tr>\n",
       "    <tr>\n",
       "      <th>...</th>\n",
       "      <td>...</td>\n",
       "      <td>...</td>\n",
       "    </tr>\n",
       "    <tr>\n",
       "      <th>404</th>\n",
       "      <td>926872.0</td>\n",
       "      <td>0.024359</td>\n",
       "    </tr>\n",
       "    <tr>\n",
       "      <th>677</th>\n",
       "      <td>952982.0</td>\n",
       "      <td>0.019444</td>\n",
       "    </tr>\n",
       "    <tr>\n",
       "      <th>636</th>\n",
       "      <td>948282.0</td>\n",
       "      <td>0.016667</td>\n",
       "    </tr>\n",
       "    <tr>\n",
       "      <th>644</th>\n",
       "      <td>949420.0</td>\n",
       "      <td>0.016667</td>\n",
       "    </tr>\n",
       "    <tr>\n",
       "      <th>675</th>\n",
       "      <td>952954.0</td>\n",
       "      <td>0.016667</td>\n",
       "    </tr>\n",
       "  </tbody>\n",
       "</table>\n",
       "<p>754 rows × 2 columns</p>\n",
       "</div>"
      ],
      "text/plain": [
       "    operator_id  waiting_min\n",
       "337    919794.0    16.789583\n",
       "206    906070.0    14.830000\n",
       "335    919790.0    14.446721\n",
       "445    931458.0    11.366026\n",
       "358    921318.0    10.256970\n",
       "..          ...          ...\n",
       "404    926872.0     0.024359\n",
       "677    952982.0     0.019444\n",
       "636    948282.0     0.016667\n",
       "644    949420.0     0.016667\n",
       "675    952954.0     0.016667\n",
       "\n",
       "[754 rows x 2 columns]"
      ]
     },
     "execution_count": 154,
     "metadata": {},
     "output_type": "execute_result"
    }
   ],
   "source": [
    "mean_wait_time"
   ]
  },
  {
   "cell_type": "code",
   "execution_count": 146,
   "metadata": {},
   "outputs": [
    {
     "data": {
      "text/plain": [
       "count    754.000000\n",
       "mean       0.960213\n",
       "std        1.574279\n",
       "min        0.016667\n",
       "25%        0.291667\n",
       "50%        0.516667\n",
       "75%        0.966667\n",
       "max       16.789583\n",
       "Name: waiting_min, dtype: float64"
      ]
     },
     "execution_count": 146,
     "metadata": {},
     "output_type": "execute_result"
    }
   ],
   "source": [
    "mean_wait_time['waiting_min'].describe()"
   ]
  },
  {
   "cell_type": "code",
   "execution_count": 139,
   "metadata": {},
   "outputs": [
    {
     "name": "stdout",
     "output_type": "stream",
     "text": [
      "Los percentiles 90, 95 y 99 del tiempo de espera son: [1.90083333 3.12355801 8.97064311]\n"
     ]
    }
   ],
   "source": [
    "# Calcular los percentiles del tiempo de espera\n",
    "print(f'Los percentiles 90, 95 y 99 del tiempo de espera son: {percentiles(mean_wait_time,'waiting_min')}')"
   ]
  },
  {
   "cell_type": "markdown",
   "metadata": {},
   "source": [
    "En base a los resultados obtenidos, concluimos que aquellos operadores que muestren un promedio de +6 min de tiempo de espera en llamadas entrantes ya cumplen con otra caracteristica para ser determinados como operadores ineficientes "
   ]
  },
  {
   "cell_type": "markdown",
   "metadata": {},
   "source": [
    "## Llamadas realizadas"
   ]
  },
  {
   "cell_type": "code",
   "execution_count": 141,
   "metadata": {},
   "outputs": [],
   "source": [
    "# Filtrar por las llamadas de salida\n",
    "outgoing_calls = telecom[telecom['direction']=='out']\n",
    "# Agrupar a los operadores con la cantidad de llamadas que realizaron \n",
    "calls_by_ops = outgoing_calls.groupby('operator_id', as_index=False)['direction'].count()"
   ]
  },
  {
   "cell_type": "code",
   "execution_count": 142,
   "metadata": {},
   "outputs": [
    {
     "data": {
      "image/png": "[encoded data removed]",
      "text/plain": [
       "<Figure size 1000x500 with 1 Axes>"
      ]
     },
     "metadata": {},
     "output_type": "display_data"
    }
   ],
   "source": [
    "# Visualizar distribucion de las llamadas realizadas por los operadores\n",
    "plt.figure(figsize=(10,5))\n",
    "plt.hist(calls_by_ops['direction'])\n",
    "plt.title('Distribucion de llamadas realizadas por operadores')\n",
    "plt.show()"
   ]
  },
  {
   "cell_type": "code",
   "execution_count": 145,
   "metadata": {},
   "outputs": [
    {
     "data": {
      "text/plain": [
       "count    882.000000\n",
       "mean      32.667800\n",
       "std       38.145841\n",
       "min        1.000000\n",
       "25%        5.000000\n",
       "50%       19.000000\n",
       "75%       45.000000\n",
       "max      228.000000\n",
       "Name: direction, dtype: float64"
      ]
     },
     "execution_count": 145,
     "metadata": {},
     "output_type": "execute_result"
    }
   ],
   "source": [
    "# Analizar las estadisticas descriptivas de las llamadas realizadas por los operadores\n",
    "calls_by_ops['direction'].describe()"
   ]
  },
  {
   "cell_type": "code",
   "execution_count": 143,
   "metadata": {},
   "outputs": [
    {
     "name": "stdout",
     "output_type": "stream",
     "text": [
      "Los percentiles 90, 95 y 99 de las llamadas realizadas por los operadores son: [ 83.   110.95 170.  ]\n"
     ]
    }
   ],
   "source": [
    "# Calcular los percentiles de las llamadas realizadas \n",
    "print(f'Los percentiles 90, 95 y 99 de las llamadas realizadas por los operadores son: {percentiles(calls_by_ops,'direction')}')"
   ]
  },
  {
   "cell_type": "markdown",
   "metadata": {},
   "source": [
    "En base a los resultados obtenidos se concluye que los operadores deben de tener al menos 45 llamadas realizadas para evitar ser considerados como operadores ineficientes"
   ]
  },
  {
   "cell_type": "markdown",
   "metadata": {},
   "source": [
    "# Identificar Operadores Ineficientes\n",
    "\n",
    "Ya que tenemos los umbrales definidos ya sabemos que aquellos operadores con mas de 10 llamadas entrantes perdidas, mas de 6 minutos de espera y menos de 45 llamadas realizadas son considerados operadores ineficientes."
   ]
  },
  {
   "cell_type": "code",
   "execution_count": 162,
   "metadata": {},
   "outputs": [],
   "source": [
    "# Crear lista de operadores ineficientes\n",
    "bad_ops = []\n",
    "\n",
    "# Filtrar los operadores con mas de 10 llamadas perdidas\n",
    "many_missed_calls = (m_calls['operator_id'][m_calls['is_missed_call'] > 10]).tolist()\n",
    "bad_ops.extend(many_missed_calls)\n",
    "\n",
    "# Añadir operadores con un tiempo de espera promedio mayor a 6 minutos\n",
    "inefficient_waiting = mean_wait_time[mean_wait_time['waiting_min'] > 6]['operator_id'].tolist()\n",
    "bad_ops.extend(inefficient_waiting)\n",
    "\n",
    "# Filtrar los operadores con menos de 45 llamadas\n",
    "inefficient_calls = calls_by_ops[calls_by_ops['direction'] < 45]['operator_id'].tolist()\n",
    "bad_ops.extend(inefficient_calls)\n",
    "\n",
    "# Eliminar duplicados en caso de que existan operadores ya presentes en bad_ops\n",
    "bad_ops = list(set(bad_ops))"
   ]
  },
  {
   "cell_type": "code",
   "execution_count": 182,
   "metadata": {},
   "outputs": [],
   "source": [
    "# Filtrar los operadores ineficientes \n",
    "inefficients = telecom[telecom['operator_id'].isin(bad_ops)]\n",
    "# Filtrar los operadores eficientes \n",
    "efficients = telecom[~telecom['operator_id'].isin(bad_ops)]"
   ]
  },
  {
   "cell_type": "markdown",
   "metadata": {},
   "source": [
    "# Hipotesis"
   ]
  },
  {
   "cell_type": "markdown",
   "metadata": {},
   "source": [
    "Hipótesis 1: Los operadores ineficaces tienen un mayor número de llamadas entrantes perdidas.\n",
    "+ Hipótesis nula (H0): No hay diferencia significativa en el número de llamadas entrantes perdidas entre operadores ineficaces y eficientes.\n",
    "+ Hipótesis alternativa (H1): Los operadores ineficaces tienen un mayor número de llamadas entrantes perdidas que los operadores eficientes.\n",
    "\n",
    "Hipótesis 2: Los operadores ineficaces tienen un tiempo de espera promedio mayor para las llamadas entrantes.\n",
    "+ Hipótesis nula (H0): No hay diferencia significativa en el tiempo de espera promedio para las llamadas entrantes entre operadores ineficaces y eficientes.\n",
    "+ Hipótesis alternativa (H1): Los operadores ineficaces tienen un tiempo de espera promedio mayor para las llamadas entrantes que los operadores eficientes.\n",
    "\n",
    "Hipótesis 3: Los operadores ineficaces realizan un número reducido de llamadas salientes.\n",
    "+ Hipótesis nula (H0): No hay diferencia significativa en el número de llamadas salientes realizadas entre operadores ineficaces y eficientes.\n",
    "+ Hipótesis alternativa (H1): Los operadores ineficaces realizan un número reducido de llamadas salientes en comparación con los operadores eficientes.\n",
    "\n",
    "Pruebas Estadísticas\n",
    "\n",
    "Usaremos la prueba t de Student para comparar las medias de ambos grupos. Dado que estamos interesados en verificar si los operadores ineficaces tienen mayores valores en algunas métricas, realizaremos pruebas t de una cola."
   ]
  },
  {
   "cell_type": "code",
   "execution_count": 178,
   "metadata": {},
   "outputs": [],
   "source": [
    "# Función para interpretar los resultados de la prueba t\n",
    "def interpretar_prueba(p_val, alpha=0.05):\n",
    "    if p_val < alpha:\n",
    "        return f\"p_val={p_val:.2e}, Se rechaza la hipótesis nula.\"\n",
    "    else:\n",
    "        return f\"p_val={p_val:.2e}, No se rechaza la hipótesis nula.\"\n",
    "\n",
    "\n",
    "# Interpretaciones específicas\n",
    "interpretaciones = {\n",
    "    \"Hipótesis 1\": \"Los operadores ineficaces tienen un mayor número de llamadas entrantes perdidas.\",\n",
    "    \"Hipótesis 2\": \"Los operadores ineficaces tienen un tiempo de espera promedio mayor para las llamadas entrantes.\",\n",
    "    \"Hipótesis 3\": \"No hay evidencia suficiente para concluir que los operadores ineficaces realizan un número reducido de llamadas salientes.\"\n",
    "}\n",
    "\n",
    "# Declarar el valor alpha \n",
    "alpha = 0.05"
   ]
  },
  {
   "cell_type": "markdown",
   "metadata": {},
   "source": [
    "## Hipotesis 1\n"
   ]
  },
  {
   "cell_type": "code",
   "execution_count": 179,
   "metadata": {},
   "outputs": [
    {
     "name": "stdout",
     "output_type": "stream",
     "text": [
      "Hipótesis 1 (Número de llamadas perdidas): p_val=8.52e-04, Se rechaza la hipótesis nula. \n",
      "\n",
      "Hipótesis 1: Los operadores ineficaces tienen un mayor número de llamadas entrantes perdidas.\n"
     ]
    }
   ],
   "source": [
    "# Hipótesis 1: Número de llamadas entrantes perdidas\n",
    "t_stat_missed_calls, p_val_missed_calls = st.ttest_ind(\n",
    "    inefficients['is_missed_call'],\n",
    "    efficients['is_missed_call'],\n",
    "    alternative='greater'  # Prueba de una cola, mayor número de llamadas perdidas\n",
    ")\n",
    "# Hipótesis 1\n",
    "resultado_missed_calls = interpretar_prueba(p_val_missed_calls, alpha)\n",
    "print(f\"Hipótesis 1 (Número de llamadas perdidas): {resultado_missed_calls} \\n\")\n",
    "print(f\"Hipótesis 1: {interpretaciones['Hipótesis 1'] if 'rechaza' in resultado_missed_calls else 'No se rechaza la hipótesis nula.'}\")"
   ]
  },
  {
   "cell_type": "markdown",
   "metadata": {},
   "source": [
    "## Hipotesis 2\n"
   ]
  },
  {
   "cell_type": "code",
   "execution_count": 180,
   "metadata": {},
   "outputs": [
    {
     "name": "stdout",
     "output_type": "stream",
     "text": [
      "Hipótesis 2 (Tiempo de espera promedio): p_val=3.17e-114, Se rechaza la hipótesis nula. \n",
      "\n",
      "Hipótesis 2: Los operadores ineficaces tienen un tiempo de espera promedio mayor para las llamadas entrantes.\n"
     ]
    },
    {
     "name": "stderr",
     "output_type": "stream",
     "text": [
      "C:\\Users\\User\\AppData\\Local\\Temp\\ipykernel_17728\\2939969764.py:3: SettingWithCopyWarning: \n",
      "A value is trying to be set on a copy of a slice from a DataFrame.\n",
      "Try using .loc[row_indexer,col_indexer] = value instead\n",
      "\n",
      "See the caveats in the documentation: https://pandas.pydata.org/pandas-docs/stable/user_guide/indexing.html#returning-a-view-versus-a-copy\n",
      "  inefficients['waiting_min'] = (inefficients['total_call_duration'] - inefficients['call_duration']) / 60\n",
      "C:\\Users\\User\\AppData\\Local\\Temp\\ipykernel_17728\\2939969764.py:4: SettingWithCopyWarning: \n",
      "A value is trying to be set on a copy of a slice from a DataFrame.\n",
      "Try using .loc[row_indexer,col_indexer] = value instead\n",
      "\n",
      "See the caveats in the documentation: https://pandas.pydata.org/pandas-docs/stable/user_guide/indexing.html#returning-a-view-versus-a-copy\n",
      "  efficients['waiting_min'] = (efficients['total_call_duration'] - efficients['call_duration']) / 60\n"
     ]
    }
   ],
   "source": [
    "# Hipótesis 2: Tiempo de espera promedio para llamadas entrantes\n",
    "# Crear columnas con el tiempo de espera en minutos \n",
    "inefficients['waiting_min'] = (inefficients['total_call_duration'] - inefficients['call_duration']) / 60\n",
    "efficients['waiting_min'] = (efficients['total_call_duration'] - efficients['call_duration']) / 60\n",
    "\n",
    "t_stat_waiting, p_val_waiting = st.ttest_ind(\n",
    "    inefficients['waiting_min'],\n",
    "    efficients['waiting_min'],\n",
    "    alternative='greater'  # Prueba de una cola, mayor tiempo de espera\n",
    ")\n",
    "\n",
    "# Hipótesis 2\n",
    "resultado_waiting = interpretar_prueba(p_val_waiting, alpha)\n",
    "print(f\"Hipótesis 2 (Tiempo de espera promedio): {resultado_waiting} \\n\")\n",
    "print(f\"Hipótesis 2: {interpretaciones['Hipótesis 2'] if 'rechaza' in resultado_waiting else 'No se rechaza la hipótesis nula.'}\")"
   ]
  },
  {
   "cell_type": "markdown",
   "metadata": {},
   "source": [
    "## Hipotesis 3\n"
   ]
  },
  {
   "cell_type": "code",
   "execution_count": 181,
   "metadata": {},
   "outputs": [
    {
     "name": "stdout",
     "output_type": "stream",
     "text": [
      "Hipótesis 3 (Número de llamadas salientes): p_val=1.00e+00, No se rechaza la hipótesis nula. \n",
      "\n",
      "Hipótesis 3: No hay evidencia suficiente para concluir que los operadores ineficaces realizan un número reducido de llamadas salientes.\n"
     ]
    }
   ],
   "source": [
    "# Hipótesis 3: Número de llamadas salientes\n",
    "# Primero, filtramos solo las llamadas salientes\n",
    "inefficients_out = inefficients[inefficients['direction'] == 'out']\n",
    "efficients_out = efficients[efficients['direction'] == 'out']\n",
    "\n",
    "t_stat_out_calls, p_val_out_calls = st.ttest_ind(\n",
    "    inefficients_out['calls_count'],\n",
    "    efficients_out['calls_count'],\n",
    "    alternative='less'  # Prueba de una cola, menor número de llamadas salientes\n",
    ")\n",
    "\n",
    "# Hipótesis 3\n",
    "resultado_out_calls = interpretar_prueba(p_val_out_calls, alpha)\n",
    "print(f\"Hipótesis 3 (Número de llamadas salientes): {resultado_out_calls} \\n\")\n",
    "print(f\"Hipótesis 3: {interpretaciones['Hipótesis 3'] if 'rechaza' in resultado_out_calls else 'No se rechaza la hipótesis nula.'}\")"
   ]
  },
  {
   "cell_type": "markdown",
   "metadata": {},
   "source": [
    "## Conclusiones \n",
    "Hipótesis 1: Los operadores ineficaces tienen un mayor número de llamadas entrantes perdidas.\n",
    "+ Prueba t: t_stat = 3.14, p_val = 8.52e-04\n",
    "+ Interpretación: El p-valor es mucho menor que el nivel de significancia típico (0.05), lo que nos lleva a rechazar la hipótesis nula. Por lo tanto, hay evidencia suficiente para concluir que los operadores ineficaces tienen un mayor número de llamadas entrantes perdidas en comparación con los operadores eficientes.\n",
    "\n",
    "Hipótesis 2: Los operadores ineficaces tienen un tiempo de espera promedio mayor para las llamadas entrantes.\n",
    "+ Prueba t: t_stat = 22.76, p_val = 3.17e-114\n",
    "+ Interpretación: El p-valor es extremadamente pequeño, lo que nos permite rechazar la hipótesis nula con gran confianza. Esto indica que los operadores ineficaces tienen un tiempo de espera promedio significativamente mayor para las llamadas entrantes en comparación con los operadores eficientes.\n",
    "\n",
    "Hipótesis 3: Los operadores ineficaces realizan un número reducido de llamadas salientes.\n",
    "+ Prueba t: t_stat = 17.68, p_val = 1.00\n",
    "+ Interpretación: El p-valor es 1.00, lo cual es mayor que cualquier nivel de significancia típico (0.05). Esto significa que no podemos rechazar la hipótesis nula. Por lo tanto, no hay evidencia suficiente para concluir que los operadores ineficaces realizan un número reducido de llamadas salientes en comparación con los operadores eficientes. De hecho, un p-valor de 1.00 sugiere que hay una diferencia contraria a la esperada (los operadores ineficaces pueden estar realizando más llamadas salientes).\n",
    "\n",
    "Resumen de las Hipótesis\n",
    "+ Hipótesis 1: Rechazada la hipótesis nula. Los operadores ineficaces tienen un mayor número de llamadas entrantes perdidas.\n",
    "+ Hipótesis 2: Rechazada la hipótesis nula. Los operadores ineficaces tienen un tiempo de espera promedio mayor para las llamadas entrantes.\n",
    "+ Hipótesis 3: No se rechaza la hipótesis nula. No hay evidencia suficiente para concluir que los operadores ineficaces realizan un número reducido de llamadas salientes.\n",
    "\n",
    "Conclusión\n",
    "\n",
    "De acuerdo con los resultados, podemos confirmar que los operadores ineficaces tienen más llamadas entrantes perdidas y un mayor tiempo de espera promedio para las llamadas entrantes. Sin embargo, la hipótesis de que los operadores ineficaces realizan menos llamadas salientes no se sostiene con los datos proporcionados.\n",
    "\n",
    "Este análisis puede ayudar a enfocarse en mejorar las métricas de llamadas perdidas y tiempos de espera para operadores considerados ineficaces, mientras se reconsidera la métrica de llamadas salientes en el contexto de la eficiencia de los operadores."
   ]
  },
  {
   "cell_type": "markdown",
   "metadata": {},
   "source": [
    "# Conclusion General \n",
    "\n",
    "El análisis de datos del servicio de telefonía virtual CallMeMaybe ha permitido identificar los operadores ineficaces y validar algunas hipótesis relacionadas con su desempeño. Los resultados indican que los operadores ineficaces presentan características distintivas en cuanto a llamadas perdidas y tiempos de espera, mientras que el número de llamadas salientes no mostró una diferencia significativa. Aquí se detallan los hallazgos principales, los insights derivados y las recomendaciones pertinentes.\n",
    "\n",
    "Resultados de las Hipótesis\n",
    "\n",
    "Número de llamadas perdidas:\n",
    "+ Prueba t: t_stat = 3.14, p_val = 8.52e-04\n",
    "+ Interpretación: Se rechaza la hipótesis nula. Los operadores ineficaces tienen un mayor número de llamadas entrantes perdidas en comparación con los operadores eficientes.\n",
    "\n",
    "Tiempo de espera promedio para llamadas entrantes:\n",
    "+ Prueba t: t_stat = 22.76, p_val = 3.17e-114\n",
    "+ Interpretación: Se rechaza la hipótesis nula. Los operadores ineficaces tienen un tiempo de espera promedio significativamente mayor para las llamadas entrantes.\n",
    "\n",
    "Número de llamadas salientes:\n",
    "+ Prueba t: t_stat = 17.68, p_val = 1.00\n",
    "+ Interpretación: No se rechaza la hipótesis nula. No hay evidencia suficiente para concluir que los operadores ineficaces realizan un número reducido de llamadas salientes.\n",
    "\n",
    "Insights\n",
    "+ Llamadas Perdidas: Los operadores ineficaces tienen significativamente más llamadas perdidas. Esto podría deberse a una falta de capacidad para gestionar el volumen de llamadas entrantes o a problemas de atención al cliente.\n",
    "+ Tiempo de Espera: El tiempo de espera promedio para las llamadas entrantes es notablemente más alto entre los operadores ineficaces. Esto sugiere problemas en la gestión del tiempo y posiblemente en la formación y eficiencia operativa.\n",
    "+ Llamadas Salientes: El número de llamadas salientes no muestra diferencias significativas entre operadores ineficaces y eficientes. Este resultado sugiere que la eficacia en las llamadas salientes no es un buen indicador del desempeño general del operador en este contexto.\n",
    "\n",
    "Recomendaciones\n",
    "\n",
    "Capacitación y Formación:\n",
    "+ Implementar programas de formación focalizados en la gestión eficiente de las llamadas entrantes y en la reducción de los tiempos de espera.\n",
    "+ Introducir sesiones de coaching y retroalimentación periódica para los operadores con altas tasas de llamadas perdidas.\n",
    "\n",
    "Optimización de Procesos:\n",
    "+ Revisar y mejorar los procesos de atención al cliente, asegurando que los operadores tengan acceso a las herramientas y la información necesaria para resolver llamadas de manera eficiente.\n",
    "+ Evaluar la distribución del trabajo y ajustar las cargas de trabajo para evitar sobrecargas que pueden llevar a tiempos de espera elevados y a la pérdida de llamadas.\n",
    "\n",
    "Monitoreo y Evaluación Continuos:\n",
    "+ Establecer métricas de rendimiento claras y monitorear regularmente el desempeño de los operadores, con un enfoque especial en las llamadas perdidas y los tiempos de espera.\n",
    "+ Implementar un sistema de alerta temprana para identificar a los operadores que comienzan a mostrar signos de ineficacia, permitiendo intervenciones proactivas.\n",
    "\n",
    "Tecnología y Automatización:\n",
    "+ Explorar soluciones tecnológicas, como sistemas de respuesta de voz interactiva (IVR) y chatbots, para manejar consultas sencillas y reducir la carga sobre los operadores humanos.\n",
    "+ Evaluar la implementación de software de gestión de llamadas que pueda priorizar y enrutar las llamadas de manera más eficiente.\n",
    "\n",
    "Conclusión Final\n",
    "\n",
    "El análisis ha destacado áreas clave donde los operadores ineficaces difieren de sus contrapartes eficientes, particularmente en términos de llamadas perdidas y tiempos de espera. Abordar estos problemas mediante capacitación, optimización de procesos y mejoras tecnológicas puede llevar a una mejora sustancial en la calidad del servicio y la satisfacción del cliente. Implementar estas recomendaciones ayudará a CallMeMaybe a mejorar la eficiencia de sus operadores y a ofrecer una experiencia de usuario más satisfactoria."
   ]
  }
 ],
 "metadata": {
  "kernelspec": {
   "display_name": "Python 3",
   "language": "python",
   "name": "python3"
  },
  "language_info": {
   "codemirror_mode": {
    "name": "ipython",
    "version": 3
   },
   "file_extension": ".py",
   "mimetype": "text/x-python",
   "name": "python",
   "nbconvert_exporter": "python",
   "pygments_lexer": "ipython3",
   "version": "3.12.0"
  }
 },
 "nbformat": 4,
 "nbformat_minor": 2
}
