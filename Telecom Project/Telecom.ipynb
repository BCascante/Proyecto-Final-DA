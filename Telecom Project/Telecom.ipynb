{
 "cells": [
  {
   "cell_type": "markdown",
   "metadata": {},
   "source": [
    "# Importar Librerías \n"
   ]
  },
  {
   "cell_type": "code",
   "execution_count": 1,
   "metadata": {},
   "outputs": [],
   "source": [
    "# Manipulación de datos \n",
    "import pandas as pd \n",
    "import numpy as np \n",
    "import math \n",
    "import datetime as dt \n",
    "# Visualización de datos \n",
    "import seaborn as sns \n",
    "import matplotlib.pyplot as plt "
   ]
  },
  {
   "cell_type": "markdown",
   "metadata": {},
   "source": [
    "# Importar Datasets \n",
    "Los datasets contienen información sobre el uso del servicio de telefonía virtual CallMeMaybe. Sus clientes son organizaciones que necesitan distribuir gran cantidad de llamadas entrantes entre varios operadores, o realizar llamadas salientes a través de sus operadores. Los operadores también pueden realizar llamadas internas para comunicarse entre ellos. Estas llamadas se realizan a través de la red de CallMeMaybe."
   ]
  },
  {
   "cell_type": "markdown",
   "metadata": {},
   "source": [
    "## Telecom Dataset \n",
    "- `user_id`: ID de la cuenta de cliente\n",
    "- `date`: fecha en la que se recuperaron las estadísticas\n",
    "- `direction`: \"dirección\" de llamada (`out` para saliente, `in` para entrante)\n",
    "- `internal`: si la llamada fue interna (entre los operadores de un cliente o clienta)\n",
    "- `operator_id`: identificador del operador\n",
    "- `is_missed_call`: si fue una llamada perdida\n",
    "- `calls_count`: número de llamadas\n",
    "- `call_duration`: duración de la llamada (sin incluir el tiempo de espera)\n",
    "- `total_call_duration`: duración de la llamada (incluido el tiempo de espera)"
   ]
  },
  {
   "cell_type": "code",
   "execution_count": 2,
   "metadata": {},
   "outputs": [
    {
     "data": {
      "text/html": [
       "<div>\n",
       "<style scoped>\n",
       "    .dataframe tbody tr th:only-of-type {\n",
       "        vertical-align: middle;\n",
       "    }\n",
       "\n",
       "    .dataframe tbody tr th {\n",
       "        vertical-align: top;\n",
       "    }\n",
       "\n",
       "    .dataframe thead th {\n",
       "        text-align: right;\n",
       "    }\n",
       "</style>\n",
       "<table border=\"1\" class=\"dataframe\">\n",
       "  <thead>\n",
       "    <tr style=\"text-align: right;\">\n",
       "      <th></th>\n",
       "      <th>user_id</th>\n",
       "      <th>date</th>\n",
       "      <th>direction</th>\n",
       "      <th>internal</th>\n",
       "      <th>operator_id</th>\n",
       "      <th>is_missed_call</th>\n",
       "      <th>calls_count</th>\n",
       "      <th>call_duration</th>\n",
       "      <th>total_call_duration</th>\n",
       "    </tr>\n",
       "  </thead>\n",
       "  <tbody>\n",
       "    <tr>\n",
       "      <th>0</th>\n",
       "      <td>166377</td>\n",
       "      <td>2019-08-04 00:00:00+03:00</td>\n",
       "      <td>in</td>\n",
       "      <td>False</td>\n",
       "      <td>NaN</td>\n",
       "      <td>True</td>\n",
       "      <td>2</td>\n",
       "      <td>0</td>\n",
       "      <td>4</td>\n",
       "    </tr>\n",
       "    <tr>\n",
       "      <th>1</th>\n",
       "      <td>166377</td>\n",
       "      <td>2019-08-05 00:00:00+03:00</td>\n",
       "      <td>out</td>\n",
       "      <td>True</td>\n",
       "      <td>880022.0</td>\n",
       "      <td>True</td>\n",
       "      <td>3</td>\n",
       "      <td>0</td>\n",
       "      <td>5</td>\n",
       "    </tr>\n",
       "    <tr>\n",
       "      <th>2</th>\n",
       "      <td>166377</td>\n",
       "      <td>2019-08-05 00:00:00+03:00</td>\n",
       "      <td>out</td>\n",
       "      <td>True</td>\n",
       "      <td>880020.0</td>\n",
       "      <td>True</td>\n",
       "      <td>1</td>\n",
       "      <td>0</td>\n",
       "      <td>1</td>\n",
       "    </tr>\n",
       "    <tr>\n",
       "      <th>3</th>\n",
       "      <td>166377</td>\n",
       "      <td>2019-08-05 00:00:00+03:00</td>\n",
       "      <td>out</td>\n",
       "      <td>True</td>\n",
       "      <td>880020.0</td>\n",
       "      <td>False</td>\n",
       "      <td>1</td>\n",
       "      <td>10</td>\n",
       "      <td>18</td>\n",
       "    </tr>\n",
       "    <tr>\n",
       "      <th>4</th>\n",
       "      <td>166377</td>\n",
       "      <td>2019-08-05 00:00:00+03:00</td>\n",
       "      <td>out</td>\n",
       "      <td>False</td>\n",
       "      <td>880022.0</td>\n",
       "      <td>True</td>\n",
       "      <td>3</td>\n",
       "      <td>0</td>\n",
       "      <td>25</td>\n",
       "    </tr>\n",
       "    <tr>\n",
       "      <th>5</th>\n",
       "      <td>166377</td>\n",
       "      <td>2019-08-05 00:00:00+03:00</td>\n",
       "      <td>out</td>\n",
       "      <td>False</td>\n",
       "      <td>880020.0</td>\n",
       "      <td>False</td>\n",
       "      <td>2</td>\n",
       "      <td>3</td>\n",
       "      <td>29</td>\n",
       "    </tr>\n",
       "    <tr>\n",
       "      <th>6</th>\n",
       "      <td>166377</td>\n",
       "      <td>2019-08-05 00:00:00+03:00</td>\n",
       "      <td>out</td>\n",
       "      <td>False</td>\n",
       "      <td>880020.0</td>\n",
       "      <td>True</td>\n",
       "      <td>8</td>\n",
       "      <td>0</td>\n",
       "      <td>50</td>\n",
       "    </tr>\n",
       "    <tr>\n",
       "      <th>7</th>\n",
       "      <td>166377</td>\n",
       "      <td>2019-08-05 00:00:00+03:00</td>\n",
       "      <td>in</td>\n",
       "      <td>False</td>\n",
       "      <td>NaN</td>\n",
       "      <td>True</td>\n",
       "      <td>6</td>\n",
       "      <td>0</td>\n",
       "      <td>35</td>\n",
       "    </tr>\n",
       "    <tr>\n",
       "      <th>8</th>\n",
       "      <td>166377</td>\n",
       "      <td>2019-08-05 00:00:00+03:00</td>\n",
       "      <td>out</td>\n",
       "      <td>False</td>\n",
       "      <td>880020.0</td>\n",
       "      <td>True</td>\n",
       "      <td>8</td>\n",
       "      <td>0</td>\n",
       "      <td>50</td>\n",
       "    </tr>\n",
       "    <tr>\n",
       "      <th>9</th>\n",
       "      <td>166377</td>\n",
       "      <td>2019-08-06 00:00:00+03:00</td>\n",
       "      <td>in</td>\n",
       "      <td>False</td>\n",
       "      <td>NaN</td>\n",
       "      <td>True</td>\n",
       "      <td>4</td>\n",
       "      <td>0</td>\n",
       "      <td>62</td>\n",
       "    </tr>\n",
       "  </tbody>\n",
       "</table>\n",
       "</div>"
      ],
      "text/plain": [
       "   user_id                       date direction internal  operator_id  \\\n",
       "0   166377  2019-08-04 00:00:00+03:00        in    False          NaN   \n",
       "1   166377  2019-08-05 00:00:00+03:00       out     True     880022.0   \n",
       "2   166377  2019-08-05 00:00:00+03:00       out     True     880020.0   \n",
       "3   166377  2019-08-05 00:00:00+03:00       out     True     880020.0   \n",
       "4   166377  2019-08-05 00:00:00+03:00       out    False     880022.0   \n",
       "5   166377  2019-08-05 00:00:00+03:00       out    False     880020.0   \n",
       "6   166377  2019-08-05 00:00:00+03:00       out    False     880020.0   \n",
       "7   166377  2019-08-05 00:00:00+03:00        in    False          NaN   \n",
       "8   166377  2019-08-05 00:00:00+03:00       out    False     880020.0   \n",
       "9   166377  2019-08-06 00:00:00+03:00        in    False          NaN   \n",
       "\n",
       "   is_missed_call  calls_count  call_duration  total_call_duration  \n",
       "0            True            2              0                    4  \n",
       "1            True            3              0                    5  \n",
       "2            True            1              0                    1  \n",
       "3           False            1             10                   18  \n",
       "4            True            3              0                   25  \n",
       "5           False            2              3                   29  \n",
       "6            True            8              0                   50  \n",
       "7            True            6              0                   35  \n",
       "8            True            8              0                   50  \n",
       "9            True            4              0                   62  "
      ]
     },
     "execution_count": 2,
     "metadata": {},
     "output_type": "execute_result"
    }
   ],
   "source": [
    "data = pd.read_csv('telecom_dataset_us.csv')\n",
    "data.head(10)"
   ]
  },
  {
   "cell_type": "markdown",
   "metadata": {},
   "source": [
    "## Telecom Clients \n",
    "- `user_id`: ID de usuario/a\n",
    "- `tariff_plan`: tarifa actual de la clientela\n",
    "- `date_start`: fecha de registro de la clientela"
   ]
  },
  {
   "cell_type": "code",
   "execution_count": 3,
   "metadata": {},
   "outputs": [
    {
     "data": {
      "text/html": [
       "<div>\n",
       "<style scoped>\n",
       "    .dataframe tbody tr th:only-of-type {\n",
       "        vertical-align: middle;\n",
       "    }\n",
       "\n",
       "    .dataframe tbody tr th {\n",
       "        vertical-align: top;\n",
       "    }\n",
       "\n",
       "    .dataframe thead th {\n",
       "        text-align: right;\n",
       "    }\n",
       "</style>\n",
       "<table border=\"1\" class=\"dataframe\">\n",
       "  <thead>\n",
       "    <tr style=\"text-align: right;\">\n",
       "      <th></th>\n",
       "      <th>user_id</th>\n",
       "      <th>tariff_plan</th>\n",
       "      <th>date_start</th>\n",
       "    </tr>\n",
       "  </thead>\n",
       "  <tbody>\n",
       "    <tr>\n",
       "      <th>0</th>\n",
       "      <td>166713</td>\n",
       "      <td>A</td>\n",
       "      <td>2019-08-15</td>\n",
       "    </tr>\n",
       "    <tr>\n",
       "      <th>1</th>\n",
       "      <td>166901</td>\n",
       "      <td>A</td>\n",
       "      <td>2019-08-23</td>\n",
       "    </tr>\n",
       "    <tr>\n",
       "      <th>2</th>\n",
       "      <td>168527</td>\n",
       "      <td>A</td>\n",
       "      <td>2019-10-29</td>\n",
       "    </tr>\n",
       "    <tr>\n",
       "      <th>3</th>\n",
       "      <td>167097</td>\n",
       "      <td>A</td>\n",
       "      <td>2019-09-01</td>\n",
       "    </tr>\n",
       "    <tr>\n",
       "      <th>4</th>\n",
       "      <td>168193</td>\n",
       "      <td>A</td>\n",
       "      <td>2019-10-16</td>\n",
       "    </tr>\n",
       "    <tr>\n",
       "      <th>5</th>\n",
       "      <td>167764</td>\n",
       "      <td>A</td>\n",
       "      <td>2019-09-30</td>\n",
       "    </tr>\n",
       "    <tr>\n",
       "      <th>6</th>\n",
       "      <td>167050</td>\n",
       "      <td>A</td>\n",
       "      <td>2019-08-29</td>\n",
       "    </tr>\n",
       "    <tr>\n",
       "      <th>7</th>\n",
       "      <td>168252</td>\n",
       "      <td>A</td>\n",
       "      <td>2019-10-17</td>\n",
       "    </tr>\n",
       "    <tr>\n",
       "      <th>8</th>\n",
       "      <td>168495</td>\n",
       "      <td>A</td>\n",
       "      <td>2019-10-28</td>\n",
       "    </tr>\n",
       "    <tr>\n",
       "      <th>9</th>\n",
       "      <td>167879</td>\n",
       "      <td>A</td>\n",
       "      <td>2019-10-03</td>\n",
       "    </tr>\n",
       "  </tbody>\n",
       "</table>\n",
       "</div>"
      ],
      "text/plain": [
       "   user_id tariff_plan  date_start\n",
       "0   166713           A  2019-08-15\n",
       "1   166901           A  2019-08-23\n",
       "2   168527           A  2019-10-29\n",
       "3   167097           A  2019-09-01\n",
       "4   168193           A  2019-10-16\n",
       "5   167764           A  2019-09-30\n",
       "6   167050           A  2019-08-29\n",
       "7   168252           A  2019-10-17\n",
       "8   168495           A  2019-10-28\n",
       "9   167879           A  2019-10-03"
      ]
     },
     "execution_count": 3,
     "metadata": {},
     "output_type": "execute_result"
    }
   ],
   "source": [
    "clients = pd.read_csv('telecom_clients_us.csv')\n",
    "clients.head(10)"
   ]
  },
  {
   "cell_type": "markdown",
   "metadata": {},
   "source": [
    "# Preprocesamiento de Datos "
   ]
  },
  {
   "cell_type": "markdown",
   "metadata": {},
   "source": [
    "## Valores Ausentes "
   ]
  },
  {
   "cell_type": "markdown",
   "metadata": {},
   "source": [
    "### Data_Df"
   ]
  },
  {
   "cell_type": "code",
   "execution_count": 4,
   "metadata": {},
   "outputs": [
    {
     "data": {
      "text/plain": [
       "user_id                   0\n",
       "date                      0\n",
       "direction                 0\n",
       "internal                117\n",
       "operator_id            8172\n",
       "is_missed_call            0\n",
       "calls_count               0\n",
       "call_duration             0\n",
       "total_call_duration       0\n",
       "dtype: int64"
      ]
     },
     "execution_count": 4,
     "metadata": {},
     "output_type": "execute_result"
    }
   ],
   "source": [
    "# Usar 'isna()' para ver la cantidad de valores ausentes en las distintas columnas del df\n",
    "data.isna().sum()"
   ]
  },
  {
   "cell_type": "markdown",
   "metadata": {},
   "source": [
    "Vemos que la columna con el identificador de los operarios tiene varios valores ausentes, por lo que al ser esta la columna con los valores ausentes lo mejor es eliminar todos estos valores ausentes ya que estos no nos ayudan con nuestro objetivo que es identificar a los operarios ineficientes y en este caso hace falta una de las cosas más importantes que es el identificador del usuario"
   ]
  },
  {
   "cell_type": "code",
   "execution_count": 5,
   "metadata": {},
   "outputs": [],
   "source": [
    "# Eliminar valores duplicados \n",
    "data.dropna(subset='operator_id', inplace=True)"
   ]
  },
  {
   "cell_type": "markdown",
   "metadata": {},
   "source": [
    "## Clients_Df"
   ]
  },
  {
   "cell_type": "code",
   "execution_count": 6,
   "metadata": {},
   "outputs": [
    {
     "data": {
      "text/plain": [
       "user_id        0\n",
       "tariff_plan    0\n",
       "date_start     0\n",
       "dtype: int64"
      ]
     },
     "execution_count": 6,
     "metadata": {},
     "output_type": "execute_result"
    }
   ],
   "source": [
    "clients.isna().sum()"
   ]
  },
  {
   "cell_type": "markdown",
   "metadata": {},
   "source": [
    "El dataset con la información de los clientes no tiene valores ausentes"
   ]
  },
  {
   "cell_type": "markdown",
   "metadata": {},
   "source": [
    "## Tipos de datos correctos"
   ]
  },
  {
   "cell_type": "markdown",
   "metadata": {},
   "source": [
    "### Data_DF"
   ]
  },
  {
   "cell_type": "code",
   "execution_count": 7,
   "metadata": {},
   "outputs": [
    {
     "name": "stdout",
     "output_type": "stream",
     "text": [
      "<class 'pandas.core.frame.DataFrame'>\n",
      "Index: 45730 entries, 1 to 53900\n",
      "Data columns (total 9 columns):\n",
      " #   Column               Non-Null Count  Dtype  \n",
      "---  ------               --------------  -----  \n",
      " 0   user_id              45730 non-null  int64  \n",
      " 1   date                 45730 non-null  object \n",
      " 2   direction            45730 non-null  object \n",
      " 3   internal             45670 non-null  object \n",
      " 4   operator_id          45730 non-null  float64\n",
      " 5   is_missed_call       45730 non-null  bool   \n",
      " 6   calls_count          45730 non-null  int64  \n",
      " 7   call_duration        45730 non-null  int64  \n",
      " 8   total_call_duration  45730 non-null  int64  \n",
      "dtypes: bool(1), float64(1), int64(4), object(3)\n",
      "memory usage: 3.2+ MB\n"
     ]
    }
   ],
   "source": [
    "# Ver información general del dataset \n",
    "data.info()"
   ]
  },
  {
   "cell_type": "code",
   "execution_count": 9,
   "metadata": {},
   "outputs": [],
   "source": [
    "data[['user_id','operator_id']] = data[['user_id','operator_id']].astype(str)"
   ]
  },
  {
   "cell_type": "code",
   "execution_count": 10,
   "metadata": {},
   "outputs": [
    {
     "name": "stdout",
     "output_type": "stream",
     "text": [
      "<class 'pandas.core.frame.DataFrame'>\n",
      "Index: 45730 entries, 1 to 53900\n",
      "Data columns (total 9 columns):\n",
      " #   Column               Non-Null Count  Dtype \n",
      "---  ------               --------------  ----- \n",
      " 0   user_id              45730 non-null  object\n",
      " 1   date                 45730 non-null  object\n",
      " 2   direction            45730 non-null  object\n",
      " 3   internal             45670 non-null  object\n",
      " 4   operator_id          45730 non-null  object\n",
      " 5   is_missed_call       45730 non-null  bool  \n",
      " 6   calls_count          45730 non-null  int64 \n",
      " 7   call_duration        45730 non-null  int64 \n",
      " 8   total_call_duration  45730 non-null  int64 \n",
      "dtypes: bool(1), int64(3), object(5)\n",
      "memory usage: 3.2+ MB\n"
     ]
    }
   ],
   "source": [
    "data.info()"
   ]
  }
 ],
 "metadata": {
  "kernelspec": {
   "display_name": "Python 3",
   "language": "python",
   "name": "python3"
  },
  "language_info": {
   "codemirror_mode": {
    "name": "ipython",
    "version": 3
   },
   "file_extension": ".py",
   "mimetype": "text/x-python",
   "name": "python",
   "nbconvert_exporter": "python",
   "pygments_lexer": "ipython3",
   "version": "3.12.0"
  }
 },
 "nbformat": 4,
 "nbformat_minor": 2
}
